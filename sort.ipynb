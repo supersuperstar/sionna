{
 "cells": [
  {
   "cell_type": "code",
   "execution_count": 5,
   "metadata": {},
   "outputs": [],
   "source": [
    "import os\n",
    "import matplotlib.pyplot as plt\n",
    "import numpy as np\n",
    "import json\n",
    "import pandas as pd\n",
    "\n",
    "\n",
    "config = json.load(open(\"crb_validation_config.json\"))\n",
    "subcarrier_spacing = config.get(\"subcarrier_spacing\")\n",
    "subcarrier_num = config.get(\"subcarrier_num\")\n",
    "num_time_steps = config.get(\"num_time_steps\")\n",
    "ebno_db = config.get(\"ebno_db\")\n",
    "num_samples = config.get(\"num_samples\")\n",
    "batch_size = config.get(\"batch_size\")\n",
    "max_depth = config.get(\"max_depth\")\n",
    "step = config.get(\"step\")\n",
    "los = config.get(\"los\")\n",
    "reflection = config.get(\"reflection\")\n",
    "scattering = config.get(\"scattering\")\n",
    "diffraction = config.get(\"diffraction\")\n",
    "edge_diffraction = config.get(\"edge_diffraction\")\n",
    "\n",
    "scene_info = [\n",
    "    {\n",
    "        \"scene_name\":\"indoor\", # 场景名称\n",
    "        \"paths\":\"./scenes/Indoor/indoor.xml\", # 场景路径\n",
    "        \"tgpath\":\"meshes/human.ply\", # 目标路径\n",
    "        \"tgmat\":\"itu_plywood\", # 目标材质\n",
    "        \"tgname\":\"human\", # 目标名称\n",
    "        \"tgpos\":[[-3,2,0],[-3,-1.5,0],[3,-2,0],[3,2,0]], # 目标位置\n",
    "        \"tgscales\":[[1,1,1],[1,1,1],[1,1,1],[1,1,1]], # 目标缩放\n",
    "        \"tgrots\":[[0,0,0,0],[0,0,0,0],[0,0,0,0],[0,0,0,0]], # 目标旋转\n",
    "        \"tgvs\":[[0,0,0],[0,0,0],[0,0,0],[0,0,0]], # 目标速度\n",
    "        \"map_center\":[0,0,2.95],\n",
    "        \"map_size_x\":10,\n",
    "        \"map_size_y\":6,\n",
    "        \"cell_size\":0.2,\n",
    "    },\n",
    "    # {\n",
    "    #     \"scene_name\":\"street\", # 场景名称\n",
    "    #     \"paths\":\"./scenes/Street/street.xml\", # 场景路径\n",
    "    #     \"tgpath\":\"meshes/car.ply\", # 目标路径\n",
    "    #     \"tgmat\":\"itu_metal\", # 目标材质\n",
    "    #     \"tgname\":\"car\", # 目标名称\n",
    "    #     \"tgpos\":[[0,0,0],[-14,28,0],[14,28,0]], # 目标位置\n",
    "    #     \"tgscales\":[[1,1,1],[1,1,1]], # 目标缩放\n",
    "    #     \"tgrots\":[[0,0,0,0],[0,0,0,0]], # 目标旋转\n",
    "    #     \"tgvs\":[[0,10,0],[0,10,0],[0,10,0]], # 目标速度\n",
    "    #     \"cell_pos\":[[0,0,6],[-20,27,6],[20,27,6],[20,-27,6],[-20,-27,6],[-10,-27,6],[-10,-8,6]], # 位置信息\n",
    "    # }\n",
    "]\n",
    "\n",
    "\n",
    "def getRayType():\n",
    "    ray_type=\"\"\n",
    "    if los:\n",
    "        ray_type += \"T\"\n",
    "    else:\n",
    "        ray_type += \"F\"\n",
    "    if reflection:\n",
    "        ray_type += \"T\"\n",
    "    else:\n",
    "        ray_type += \"F\"\n",
    "    if scattering:\n",
    "        ray_type += \"T\"\n",
    "    else:\n",
    "        ray_type += \"F\"\n",
    "    if diffraction:\n",
    "        ray_type += \"T\"\n",
    "    else:\n",
    "        ray_type += \"F\"\n",
    "    if edge_diffraction:\n",
    "        ray_type += \"T\"\n",
    "    else:\n",
    "        ray_type += \"F\"\n",
    "    return ray_type\n",
    "\n"
   ]
  },
  {
   "cell_type": "code",
   "execution_count": 13,
   "metadata": {},
   "outputs": [
    {
     "data": {
      "text/plain": [
       "Text(0.5, 1.0, 'mean=302.02,per=0.64')"
      ]
     },
     "execution_count": 13,
     "metadata": {},
     "output_type": "execute_result"
    },
    {
     "data": {
      "image/png": "[encoded data removed]",
      "text/plain": [
       "<Figure size 640x480 with 1 Axes>"
      ]
     },
     "metadata": {},
     "output_type": "display_data"
    }
   ],
   "source": [
    "tg_num = 3\n",
    "info = scene_info[0]\n",
    "scene_name = info.get(\"scene_name\")\n",
    "scene_path = info.get(\"paths\")\n",
    "map_center = info.get(\"map_center\")\n",
    "x = info.get(\"map_size_x\")\n",
    "y = info.get(\"map_size_y\")\n",
    "cell_size = info.get(\"cell_size\")\n",
    "tgname = info.get(\"tgname\")\n",
    "tgvs = info.get(\"tgvs\")\n",
    "tgpos = info.get(\"tgpos\")\n",
    "ray_type = getRayType()\n",
    "title = f\"./Data/{scene_name}/{tgname}/{tgpos[tg_num]}/{tgvs[tg_num]}/{num_samples}-{ray_type}-{max_depth}-{x}-{y}-{cell_size}\"\n",
    "\n",
    "mse = np.load(f\"{title}/mse_{step}.npy\")\n",
    "crb = np.load(f\"{title}/crb_{batch_size}.npy\")\n",
    "# mask_greater = np.where(mse>=1)\n",
    "# mask_less = np.where(mse<1)\n",
    "# mse[mask_greater] = np.max(mse[mask_less])\n",
    "# mask_zero = np.where(crb==0)\n",
    "# crb[mask_zero] = 1e-7\n",
    "\n",
    "# 排序并得到索引\n",
    "mse_sort = np.argsort(mse)\n",
    "crb_sort = np.argsort(crb)\n",
    "\n",
    "# 做差取平均\n",
    "diff = mse_sort - crb_sort\n",
    "diff = np.abs(diff)\n",
    "\n",
    "# 做频率直方图\n",
    "hist = np.histogram(diff, bins=20)\n",
    "plt.bar(hist[1][:-1], hist[0], width=hist[1][1]-hist[1][0])\n",
    "per = len(np.where(diff<=len(diff)/5)[0])/len(diff)\n",
    "mean = np.mean(diff)\n",
    "plt.title(f\"rank difference histogram,\\nmean={mean}, per={per}\")"
   ]
  },
  {
   "cell_type": "code",
   "execution_count": null,
   "metadata": {},
   "outputs": [],
   "source": []
  }
 ],
 "metadata": {
  "kernelspec": {
   "display_name": "base",
   "language": "python",
   "name": "python3"
  },
  "language_info": {
   "codemirror_mode": {
    "name": "ipython",
    "version": 3
   },
   "file_extension": ".py",
   "mimetype": "text/x-python",
   "name": "python",
   "nbconvert_exporter": "python",
   "pygments_lexer": "ipython3",
   "version": "3.8.10"
  }
 },
 "nbformat": 4,
 "nbformat_minor": 2
}
