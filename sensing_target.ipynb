{
 "cells": [
  {
   "cell_type": "code",
   "execution_count": 1,
   "metadata": {},
   "outputs": [
    {
     "name": "stdout",
     "output_type": "stream",
     "text": [
      "Jupyter environment detected. Enabling Open3D WebVisualizer.\n",
      "[Open3D INFO] WebRTC GUI backend enabled.\n",
      "[Open3D INFO] WebRTCWindowSystem: HTTP handshake server disabled.\n"
     ]
    }
   ],
   "source": [
    "import os\n",
    "gpu_num = 0 # 使用 \"\" 来启用 CPU\n",
    "os.environ[\"CUDA_VISIBLE_DEVICES\"] = f\"{gpu_num}\"\n",
    "os.environ['TF_CPP_MIN_LOG_LEVEL'] = '3'\n",
    "\n",
    "import tensorflow as tf\n",
    "gpus = tf.config.list_physical_devices('GPU')\n",
    "if gpus:\n",
    "    try:\n",
    "        tf.config.experimental.set_memory_growth(gpus[0], True)\n",
    "    except RuntimeError as e:\n",
    "        print(e)\n",
    "# Avoid warnings from TensorFlow\n",
    "tf.get_logger().setLevel('ERROR')\n",
    "\n",
    "tf.random.set_seed(1) # Set global random seed for reproducibility\n",
    "import matplotlib.pyplot as plt\n",
    "import numpy as np\n",
    "import sionna\n",
    "\n",
    "# Import Sionna RT components\n",
    "from mysionna.rt import load_scene, Transmitter, Receiver, PlanarArray\n",
    "from mysionna.rt.scattering_pattern import *"
   ]
  },
  {
   "cell_type": "code",
   "execution_count": 2,
   "metadata": {},
   "outputs": [],
   "source": [
    "scene = load_scene(\"Indoor/indoor.xml\")\n",
    "# scene = load_scene(sionna.rt.scene.etoile)"
   ]
  },
  {
   "cell_type": "code",
   "execution_count": 3,
   "metadata": {},
   "outputs": [],
   "source": [
    "#################配置发端天线阵列#################\n",
    "scene.tx_array = PlanarArray(num_rows=1,\n",
    "                             num_cols=1,\n",
    "                             vertical_spacing=0.5,\n",
    "                             horizontal_spacing=0.5,\n",
    "                             pattern=\"dipole\",\n",
    "                             polarization=\"V\")\n",
    "\n",
    "#################配置收端天线阵列#################\n",
    "scene.rx_array = PlanarArray(num_rows=1,\n",
    "                             num_cols=1,\n",
    "                             vertical_spacing=0.5,\n",
    "                             horizontal_spacing=0.5,\n",
    "                             pattern=\"dipole\",\n",
    "                             polarization=\"V\")"
   ]
  },
  {
   "cell_type": "code",
   "execution_count": 4,
   "metadata": {},
   "outputs": [],
   "source": [
    "################创建发射机#########################\n",
    "tx = Transmitter(name=\"tx\",\n",
    "                 position=[0,0,2.95])\n",
    "tx.look_at([1.9,2.7,1.0])\n",
    "################ 将发射机加入到场景中##############\n",
    "scene.add(tx)\n",
    "#################创建接收机########################\n",
    "rx = Receiver(name=\"rx\",\n",
    "              position=[0,0,2.95])\n",
    "rx.look_at([1.9,2.7,1.0])\n",
    "################ 将接收机加入到场景中##############\n",
    "scene.add(rx)\n"
   ]
  },
  {
   "cell_type": "code",
   "execution_count": 5,
   "metadata": {},
   "outputs": [],
   "source": [
    "scene.frequency = 2.14e9 # in Hz; implicitly updates RadioMaterials\n",
    "scene.synthetic_array = True # If set to False, ray tracing will be done per antenna element (slower for large arrays)"
   ]
  },
  {
   "cell_type": "code",
   "execution_count": 6,
   "metadata": {},
   "outputs": [],
   "source": [
    "scene.target_names = [\"human\"]\n",
    "scene.target_velocities = [(-1.2,-0.4,0.)]"
   ]
  },
  {
   "cell_type": "code",
   "execution_count": 7,
   "metadata": {},
   "outputs": [],
   "source": [
    "p1 = LambertianPattern()\n",
    "p2 = DirectivePattern(20)\n",
    "scene.get(\"itu_plywood\").scattering_coefficient = 0.4\n",
    "scene.get(\"itu_plywood\").scattering_pattern = p2\n",
    "scene.get(\"itu_concrete\").scattering_coefficient = 0.3\n",
    "scene.get(\"itu_concrete\").scattering_pattern = p1\n",
    "scene.get(\"itu_floorboard\").scattering_coefficient = 0.4\n",
    "scene.get(\"itu_floorboard\").scattering_pattern = p2\n",
    "scene.get(\"itu_ceiling_board\").scattering_coefficient = 0.4\n",
    "scene.get(\"itu_ceiling_board\").scattering_pattern = p2"
   ]
  },
  {
   "cell_type": "code",
   "execution_count": null,
   "metadata": {},
   "outputs": [],
   "source": [
    "crbs = scene.coverage_map_sensing(map_center=[0,0,2.95],\n",
    "                                  map_size_x=6,\n",
    "                                  map_size_y=10,\n",
    "                                  cell_size=0.5,\n",
    "                                  look_at=[1.9,2.7,1.0],\n",
    "                                  batch_size=5,\n",
    "                                  singleBS=True,\n",
    "                                  num_samples=1000000,\n",
    "                                  max_depth=3,\n",
    "                                  diffraction=True,\n",
    "                                  edge_diffraction=True,\n",
    "                                  num_time_steps=1)"
   ]
  },
  {
   "cell_type": "code",
   "execution_count": null,
   "metadata": {},
   "outputs": [],
   "source": [
    "crb = None\n",
    "for i in range(0,len(crbs)):\n",
    "    c = crbs[i][0]\n",
    "    c = tf.squeeze(c)\n",
    "    # c = tf.linalg.diag_part(c)\n",
    "    c = c.numpy()\n",
    "    if crb is None:\n",
    "        crb = c\n",
    "    else:\n",
    "        crb = np.concatenate((crb,c),axis=None)\n",
    "crb = np.array(crb)\n",
    "np.save(\"./Data/indoor/crb.npy\",crb)\n",
    "crb = np.reshape(crb,[-1,21])\n",
    "crb = np.log10(crb)\n",
    "plt.imshow(crb)\n",
    "plt.colorbar()"
   ]
  },
  {
   "cell_type": "code",
   "execution_count": 8,
   "metadata": {},
   "outputs": [],
   "source": [
    "paths = scene.compute_paths(max_depth=3,diffraction=True,scattering=True,edge_diffraction=True)"
   ]
  },
  {
   "cell_type": "code",
   "execution_count": 11,
   "metadata": {},
   "outputs": [],
   "source": [
    "# scene.preview(paths=paths)"
   ]
  },
  {
   "cell_type": "code",
   "execution_count": 9,
   "metadata": {},
   "outputs": [],
   "source": [
    "v,obj=scene.compute_target_velocities(paths, return_obj_names=True)"
   ]
  },
  {
   "cell_type": "code",
   "execution_count": 10,
   "metadata": {},
   "outputs": [],
   "source": [
    "subcarrier_spacing = 15e3\n",
    "num_time_steps = 1\n",
    "paths.apply_doppler(sampling_frequency=subcarrier_spacing, num_time_steps=num_time_steps,target_velocities=v)"
   ]
  },
  {
   "cell_type": "code",
   "execution_count": 11,
   "metadata": {},
   "outputs": [],
   "source": [
    "crb = paths.crb_delay()"
   ]
  },
  {
   "cell_type": "code",
   "execution_count": 12,
   "metadata": {},
   "outputs": [
    {
     "data": {
      "text/plain": [
       "True"
      ]
     },
     "execution_count": 12,
     "metadata": {},
     "output_type": "execute_result"
    }
   ],
   "source": [
    "paths.export_crb(crb,\"test.xyzrgb\",BS_pos = [0,0,2.95])"
   ]
  },
  {
   "cell_type": "code",
   "execution_count": 12,
   "metadata": {},
   "outputs": [
    {
     "name": "stderr",
     "output_type": "stream",
     "text": [
      "/tmp/ipykernel_29248/573708245.py:22: RuntimeWarning: divide by zero encountered in log10\n",
      "  mse = np.log10(mse)\n"
     ]
    },
    {
     "data": {
      "text/plain": [
       "<matplotlib.colorbar.Colorbar at 0x7f4689a1f460>"
      ]
     },
     "execution_count": 12,
     "metadata": {},
     "output_type": "execute_result"
    },
    {
     "data": {
      "image/png": "[encoded data removed]",
      "text/plain": [
       "<Figure size 640x480 with 2 Axes>"
      ]
     },
     "metadata": {},
     "output_type": "display_data"
    }
   ],
   "source": [
    "with open(\"./Data/indoor/tau_true.txt\",\"r\") as f:\n",
    "    tau_true = f.readlines()\n",
    "    tau_true = np.array([float(i) for i in tau_true])\n",
    "with open(\"./Data/indoor/tau_est.txt\",\"r\") as f:\n",
    "    tau_est = f.readlines()\n",
    "    tau_est = np.array([float(i) for i in tau_est])\n",
    "\n",
    "mse = np.abs(tau_true - tau_est)\n",
    "mse = np.reshape(mse,(-1,21))\n",
    "tau_true = np.reshape(tau_true,(-1,21))\n",
    "tau_est = np.reshape(tau_est,(-1,21))\n",
    "mask = mse >= 1\n",
    "mse[mask] = 0\n",
    "mask = tau_est==0\n",
    "mse[mask] = 0\n",
    "mask = tau_true==999999 \n",
    "mse[mask] = 0\n",
    "mask = tau_true==0\n",
    "mse[mask] = 0\n",
    "mask = tau_true==-1\n",
    "mse[mask] = 0\n",
    "mse = np.log10(mse)\n",
    "plt.imshow(mse)\n",
    "plt.colorbar()"
   ]
  },
  {
   "cell_type": "code",
   "execution_count": 6,
   "metadata": {},
   "outputs": [
    {
     "data": {
      "text/plain": [
       "227"
      ]
     },
     "execution_count": 6,
     "metadata": {},
     "output_type": "execute_result"
    }
   ],
   "source": [
    "np.argmin(mse)"
   ]
  }
 ],
 "metadata": {
  "kernelspec": {
   "display_name": "Python 3 (ipykernel)",
   "language": "python",
   "name": "python3"
  },
  "language_info": {
   "codemirror_mode": {
    "name": "ipython",
    "version": 3
   },
   "file_extension": ".py",
   "mimetype": "text/x-python",
   "name": "python",
   "nbconvert_exporter": "python",
   "pygments_lexer": "ipython3",
   "version": "3.8.10"
  }
 },
 "nbformat": 4,
 "nbformat_minor": 4
}
