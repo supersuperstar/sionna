{
 "cells": [
  {
   "cell_type": "code",
   "execution_count": 1,
   "metadata": {},
   "outputs": [
    {
     "name": "stdout",
     "output_type": "stream",
     "text": [
      "Jupyter environment detected. Enabling Open3D WebVisualizer.\n",
      "[Open3D INFO] WebRTC GUI backend enabled.\n",
      "[Open3D INFO] WebRTCWindowSystem: HTTP handshake server disabled.\n"
     ]
    }
   ],
   "source": [
    "import os\n",
    "gpu_num = 0 # 使用 \"\" 来启用 CPU\n",
    "os.environ[\"CUDA_VISIBLE_DEVICES\"] = f\"{gpu_num}\"\n",
    "os.environ['TF_CPP_MIN_LOG_LEVEL'] = '3'\n",
    "\n",
    "import tensorflow as tf\n",
    "gpus = tf.config.list_physical_devices('GPU')\n",
    "if gpus:\n",
    "    try:\n",
    "        tf.config.experimental.set_memory_growth(gpus[0], True)\n",
    "    except RuntimeError as e:\n",
    "        print(e)\n",
    "# Avoid warnings from TensorFlow\n",
    "tf.get_logger().setLevel('ERROR')\n",
    "\n",
    "tf.random.set_seed(1) # Set global random seed for reproducibility\n",
    "import matplotlib.pyplot as plt\n",
    "import numpy as np\n",
    "import sionna\n",
    "\n",
    "# Import Sionna RT components\n",
    "from sionna.channel import subcarrier_frequencies, cir_to_ofdm_channel\n",
    "from mysionna.rt import load_scene, Transmitter, Receiver, PlanarArray\n",
    "from mysionna.rt.scattering_pattern import *"
   ]
  },
  {
   "cell_type": "code",
   "execution_count": 2,
   "metadata": {},
   "outputs": [],
   "source": [
    "scene = load_scene(\"./scenes/Street/street_tmp_all.xml\")\n",
    "# scene = load_scene(sionna.rt.scene.etoile)"
   ]
  },
  {
   "cell_type": "code",
   "execution_count": 188,
   "metadata": {},
   "outputs": [],
   "source": [
    "#################配置发端天线阵列#################\n",
    "scene.tx_array = PlanarArray(num_rows=1,\n",
    "                             num_cols=1,\n",
    "                             vertical_spacing=0.5,\n",
    "                             horizontal_spacing=0.5,\n",
    "                             pattern=\"dipole\",\n",
    "                             polarization=\"V\")\n",
    "\n",
    "#################配置收端天线阵列#################\n",
    "scene.rx_array = PlanarArray(num_rows=1,\n",
    "                             num_cols=1,\n",
    "                             vertical_spacing=0.5,\n",
    "                             horizontal_spacing=0.5,\n",
    "                             pattern=\"dipole\",\n",
    "                             polarization=\"V\")"
   ]
  },
  {
   "cell_type": "code",
   "execution_count": 189,
   "metadata": {},
   "outputs": [],
   "source": [
    "################创建发射机#########################\n",
    "tx = Transmitter(name=\"tx\",\n",
    "                 position=[-20,27,6])\n",
    "tx.look_at([0,0,0])\n",
    "################ 将发射机加入到场景中##############\n",
    "scene.add(tx)\n",
    "#################创建接收机########################\n",
    "rx = Receiver(name=\"rx\",\n",
    "              position=[-20,27,6])\n",
    "rx.look_at([0,0,0])\n",
    "################ 将接收机加入到场景中##############\n",
    "scene.add(rx)\n"
   ]
  },
  {
   "cell_type": "code",
   "execution_count": 190,
   "metadata": {},
   "outputs": [],
   "source": [
    "scene.frequency = 6e9 # in Hz; implicitly updates RadioMaterials\n",
    "scene.synthetic_array = True # If set to False, ray tracing will be done per antenna element (slower for large arrays)"
   ]
  },
  {
   "cell_type": "code",
   "execution_count": 191,
   "metadata": {},
   "outputs": [],
   "source": [
    "scene.target_names = [\"car\"]\n",
    "scene.target_velocities = [(10,0,0.0)]"
   ]
  },
  {
   "cell_type": "code",
   "execution_count": 192,
   "metadata": {},
   "outputs": [],
   "source": [
    "p1 = LambertianPattern()\n",
    "p2 = DirectivePattern(20)\n",
    "if scene.get(\"itu_plywood\") is not None:\n",
    "    scene.get(\"itu_plywood\").scattering_coefficient = 0.3\n",
    "    scene.get(\"itu_plywood\").scattering_pattern = p1\n",
    "if scene.get(\"itu_concrete\") is not None:\n",
    "    scene.get(\"itu_concrete\").scattering_coefficient = 0.5\n",
    "    scene.get(\"itu_concrete\").scattering_pattern = p1\n",
    "if scene.get(\"itu_glass\") is not None:\n",
    "    scene.get(\"itu_glass\").scattering_coefficient = 0.25\n",
    "    scene.get(\"itu_glass\").scattering_pattern = p2\n",
    "if scene.get(\"itu_medium_dry_ground\") is not None:\n",
    "    scene.get(\"itu_medium_dry_ground\").scattering_coefficient = 0.8\n",
    "    scene.get(\"itu_medium_dry_ground\").scattering_pattern = p1\n",
    "if scene.get(\"itu_metal\") is not None:\n",
    "    scene.get(\"itu_metal\").scattering_coefficient = 0.1\n",
    "    scene.get(\"itu_metal\").scattering_pattern = p2"
   ]
  },
  {
   "cell_type": "code",
   "execution_count": 193,
   "metadata": {},
   "outputs": [],
   "source": [
    "# crbs = scene.coverage_map_sensing(only_target=True,\n",
    "#                                   map_center=[0,0,2.95],\n",
    "#                                   map_size_x=10,\n",
    "#                                   map_size_y=6,\n",
    "#                                   cell_size=0.5,\n",
    "#                                   look_at=[-3.37234,2.18367,1.20838],\n",
    "#                                   batch_size=10,\n",
    "#                                   singleBS=True,\n",
    "#                                   num_samples=1000000,\n",
    "#                                   max_depth=3,\n",
    "#                                   diffraction=True,\n",
    "#                                   edge_diffraction=True,\n",
    "#                                   num_time_steps=1)"
   ]
  },
  {
   "cell_type": "code",
   "execution_count": 194,
   "metadata": {},
   "outputs": [],
   "source": [
    "# crb = None\n",
    "# for i in range(0,len(crbs)):\n",
    "#     c = crbs[i][0]\n",
    "#     c = tf.squeeze(c)\n",
    "#     # c = tf.linalg.diag_part(c)\n",
    "#     c = c.numpy()\n",
    "#     if crb is None:\n",
    "#         crb = c\n",
    "#     else:\n",
    "#         crb = np.concatenate((crb,c),axis=None)\n",
    "# crb = np.array(crb)\n",
    "# crb = np.reshape(crb,[-1,13])\n",
    "# # np.save(\"./Data/indoor/table1/crb.npy\",crb)\n",
    "# crb = np.log10(crb)\n",
    "# crb = np.rot90(crb)\n",
    "# crb = np.flip(crb,axis=0)\n",
    "# crb = np.flip(crb,axis=1)\n",
    "# plt.imshow(crb)\n",
    "# plt.colorbar()\n"
   ]
  },
  {
   "cell_type": "code",
   "execution_count": 195,
   "metadata": {},
   "outputs": [],
   "source": [
    "paths = scene.compute_paths(max_depth=1,reflection=True,diffraction=True,scattering=True,edge_diffraction=True,scat_keep_prob=0.02)\n",
    "paths.normalize_delays = False"
   ]
  },
  {
   "cell_type": "code",
   "execution_count": 3,
   "metadata": {},
   "outputs": [
    {
     "data": {
      "application/vnd.jupyter.widget-view+json": {
       "model_id": "b9f1632536d7442580b94b0fd72c8d70",
       "version_major": 2,
       "version_minor": 0
      },
      "text/html": [
       "\n",
       "\n",
       "<!-- Load require.js. Delete this if your page already loads require.js -->\n",
       "<script src=\"https://cdnjs.cloudflare.com/ajax/libs/require.js/2.3.4/require.min.js\" integrity=\"sha256-Ae2Vz/4ePdIu6ZyI/5ZGsYnb+m0JlOmKPjt6XZ9JJkA=\" crossorigin=\"anonymous\"></script>\n",
       "<script src=\"https://cdn.jsdelivr.net/npm/@jupyter-widgets/html-manager@^1.0.1/dist/embed-amd.js\" crossorigin=\"anonymous\"></script>\n",
       "\n",
       "<script type=\"application/vnd.jupyter.widget-state+json\">\n",
       "{\n",
       "  \"version_major\": 2,\n",
       "  \"version_minor\": 0,\n",
       "  \"state\": {\n",
       "    \"28cda37c3c4a464c98d30bd1ae8cbe60\": {\n",
       "      \"model_name\": \"AmbientLightModel\",\n",
       "      \"model_module\": \"jupyter-threejs\",\n",
       "      \"model_module_version\": \"^2.4.1\",\n",
       "      \"state\": {\n",
       "        \"children\": [],\n",
       "        \"intensity\": 0.8\n",
       "      }\n",
       "    },\n",
       "    \"fdcfb5c89d1842729d2f7be07caa00e4\": {\n",
       "      \"model_name\": \"DirectionalLightModel\",\n",
       "      \"model_module\": \"jupyter-threejs\",\n",
       "      \"model_module_version\": \"^2.4.1\",\n",
       "      \"state\": {\n",
       "        \"children\": [],\n",
       "        \"intensity\": 0.25,\n",
       "        \"shadow\": \"uninitialized\",\n",
       "        \"target\": \"uninitialized\"\n",
       "      }\n",
       "    },\n",
       "    \"c33aac927f2e4253a05532a0ba7af4ef\": {\n",
       "      \"model_name\": \"PerspectiveCameraModel\",\n",
       "      \"model_module\": \"jupyter-threejs\",\n",
       "      \"model_module_version\": \"^2.4.1\",\n",
       "      \"state\": {\n",
       "        \"aspect\": 1.31,\n",
       "        \"children\": [\n",
       "          \"IPY_MODEL_fdcfb5c89d1842729d2f7be07caa00e4\"\n",
       "        ],\n",
       "        \"far\": 10000.0,\n",
       "        \"fov\": 45.0,\n",
       "        \"position\": [\n",
       "          -213.6494598388672,\n",
       "          0.691497802734375,\n",
       "          292.2481384277344\n",
       "        ],\n",
       "        \"up\": [\n",
       "          0.0,\n",
       "          0.0,\n",
       "          1.0\n",
       "        ]\n",
       "      }\n",
       "    },\n",
       "    \"2ab1e16266684831a070c0e5edcb149b\": {\n",
       "      \"model_name\": \"OrbitControlsModel\",\n",
       "      \"model_module\": \"jupyter-threejs\",\n",
       "      \"model_module_version\": \"^2.4.1\",\n",
       "      \"state\": {\n",
       "        \"controlling\": \"IPY_MODEL_c33aac927f2e4253a05532a0ba7af4ef\",\n",
       "        \"maxAzimuthAngle\": \"inf\",\n",
       "        \"maxDistance\": \"inf\",\n",
       "        \"maxZoom\": \"inf\",\n",
       "        \"minAzimuthAngle\": \"-inf\"\n",
       "      }\n",
       "    },\n",
       "    \"9a70319befe54c7d9bfcfddf622286b2\": {\n",
       "      \"model_name\": \"SceneModel\",\n",
       "      \"model_module\": \"jupyter-threejs\",\n",
       "      \"model_module_version\": \"^2.4.1\",\n",
       "      \"state\": {\n",
       "        \"children\": [\n",
       "          \"IPY_MODEL_c33aac927f2e4253a05532a0ba7af4ef\",\n",
       "          \"IPY_MODEL_28cda37c3c4a464c98d30bd1ae8cbe60\",\n",
       "          \"IPY_MODEL_1cc3a1604c6f46889a7dce1124e8a6a4\"\n",
       "        ],\n",
       "        \"fog\": null,\n",
       "        \"overrideMaterial\": null\n",
       "      }\n",
       "    },\n",
       "    \"6e2ac3a6dc56450889b03caad20ca6b2\": {\n",
       "      \"model_name\": \"LayoutModel\",\n",
       "      \"model_module\": \"@jupyter-widgets/base\",\n",
       "      \"model_module_version\": \"2.0.0\",\n",
       "      \"state\": {}\n",
       "    },\n",
       "    \"51e8cc7a9dcf4f53ad3fab05413d10ad\": {\n",
       "      \"model_name\": \"WebGLShadowMapModel\",\n",
       "      \"model_module\": \"jupyter-threejs\",\n",
       "      \"model_module_version\": \"^2.4.1\",\n",
       "      \"state\": {}\n",
       "    },\n",
       "    \"b9f1632536d7442580b94b0fd72c8d70\": {\n",
       "      \"model_name\": \"RendererModel\",\n",
       "      \"model_module\": \"jupyter-threejs\",\n",
       "      \"model_module_version\": \"^2.4.1\",\n",
       "      \"state\": {\n",
       "        \"_antialias\": true,\n",
       "        \"_dom_classes\": [],\n",
       "        \"_height\": 500,\n",
       "        \"_width\": 655,\n",
       "        \"camera\": \"IPY_MODEL_c33aac927f2e4253a05532a0ba7af4ef\",\n",
       "        \"clippingPlanes\": [],\n",
       "        \"controls\": [\n",
       "          \"IPY_MODEL_2ab1e16266684831a070c0e5edcb149b\"\n",
       "        ],\n",
       "        \"layout\": \"IPY_MODEL_6e2ac3a6dc56450889b03caad20ca6b2\",\n",
       "        \"scene\": \"IPY_MODEL_9a70319befe54c7d9bfcfddf622286b2\",\n",
       "        \"shadowMap\": \"IPY_MODEL_51e8cc7a9dcf4f53ad3fab05413d10ad\"\n",
       "      }\n",
       "    },\n",
       "    \"2a82cb31f40147528f0451b7bf90aac2\": {\n",
       "      \"model_name\": \"BufferAttributeModel\",\n",
       "      \"model_module\": \"jupyter-threejs\",\n",
       "      \"model_module_version\": \"^2.4.1\",\n",
       "      \"state\": {\n",
       "        \"array\": {\n",
       "          \"shape\": [\n",
       "            954\n",
       "          ],\n",
       "          \"dtype\": \"uint32\"\n",
       "        }\n",
       "      },\n",
       "      \"buffers\": [\n",
       "        {\n",
       "          \"encoding\": \"base64\",\n",
       "          \"path\": [\n",
       "            \"array\",\n",
       "            \"buffer\"\n",
       "          ],\n",
       "          \"data\": \"AAAAAAEAAAACAAAAAAAAAAIAAAADAAAAAwAAAAIAAAAEAAAAAwAAAAQAAAAFAAAABQAAAAQAAAAGAAAABQAAAAYAAAAHAAAABwAAAAYAAAAIAAAABwAAAAgAAAAJAAAABAAAAAoAAAALAAAABAAAAAsAAAAGAAAADAAAAA0AAAAOAAAADAAAAA4AAAAPAAAADwAAAA4AAAAQAAAADwAAABAAAAARAAAAEQAAABAAAAASAAAAEQAAABIAAAATAAAAEwAAABIAAAAUAAAAEwAAABQAAAAVAAAAEAAAABYAAAAXAAAAEAAAABcAAAASAAAAGAAAABkAAAAaAAAAGAAAABoAAAAbAAAAGwAAABoAAAAcAAAAGwAAABwAAAAdAAAAHQAAABwAAAAeAAAAHQAAAB4AAAAfAAAAHwAAAB4AAAAgAAAAHwAAACAAAAAhAAAAHAAAACIAAAAjAAAAHAAAACMAAAAeAAAAJAAAACUAAAAmAAAAJAAAACYAAAAnAAAAJwAAACYAAAAoAAAAJwAAACgAAAApAAAAKQAAACgAAAAqAAAAKQAAACoAAAArAAAAKwAAACoAAAAsAAAAKwAAACwAAAAtAAAAKAAAAC4AAAAvAAAAKAAAAC8AAAAqAAAAMAAAADEAAAAyAAAAMAAAADIAAAAzAAAAMwAAADIAAAA0AAAAMwAAADQAAAA1AAAANQAAADQAAAA2AAAANQAAADYAAAA3AAAANwAAADYAAAA4AAAANwAAADgAAAA5AAAANAAAADoAAAA7AAAANAAAADsAAAA2AAAAPAAAAD0AAAA+AAAAPAAAAD4AAAA/AAAAPwAAAD4AAABAAAAAPwAAAEAAAABBAAAAQQAAAEAAAABCAAAAQQAAAEIAAABDAAAAQwAAAEIAAABEAAAAQwAAAEQAAABFAAAAQAAAAEYAAABHAAAAQAAAAEcAAABCAAAASAAAAEkAAABKAAAASAAAAEoAAABLAAAASwAAAEoAAABMAAAASwAAAEwAAABNAAAATQAAAEwAAABOAAAATQAAAE4AAABPAAAATwAAAE4AAABQAAAATwAAAFAAAABRAAAATAAAAFIAAABTAAAATAAAAFMAAABOAAAAVAAAAFUAAABWAAAAVAAAAFYAAABXAAAAVwAAAFYAAABYAAAAVwAAAFgAAABZAAAAWQAAAFgAAABaAAAAWQAAAFoAAABbAAAAWwAAAFoAAABcAAAAWwAAAFwAAABdAAAAWAAAAF4AAABfAAAAWAAAAF8AAABaAAAAYAAAAGEAAABiAAAAYAAAAGIAAABjAAAAYwAAAGIAAABkAAAAYwAAAGQAAABlAAAAZQAAAGQAAABmAAAAZQAAAGYAAABnAAAAZwAAAGYAAABoAAAAZwAAAGgAAABpAAAAZAAAAGoAAABrAAAAZAAAAGsAAABmAAAAbAAAAG0AAABuAAAAbAAAAG4AAABvAAAAbwAAAG4AAABwAAAAbwAAAHAAAABxAAAAcQAAAHAAAAByAAAAcQAAAHIAAABzAAAAcwAAAHIAAAB0AAAAcwAAAHQAAAB1AAAAcAAAAHYAAAB3AAAAcAAAAHcAAAByAAAAeAAAAHkAAAB6AAAAeAAAAHoAAAB7AAAAewAAAHoAAAB8AAAAewAAAHwAAAB9AAAAfQAAAHwAAAB+AAAAfQAAAH4AAAB/AAAAfwAAAH4AAACAAAAAfwAAAIAAAACBAAAAfAAAAIIAAACDAAAAfAAAAIMAAAB+AAAAhAAAAIUAAACGAAAAhAAAAIYAAACHAAAAhwAAAIYAAACIAAAAhwAAAIgAAACJAAAAiQAAAIgAAACKAAAAiQAAAIoAAACLAAAAiwAAAIoAAACMAAAAiwAAAIwAAACNAAAAiAAAAI4AAACPAAAAiAAAAI8AAACKAAAAkAAAAJEAAACSAAAAkAAAAJIAAACTAAAAkwAAAJIAAACUAAAAkwAAAJQAAACVAAAAlQAAAJQAAACWAAAAlQAAAJYAAACXAAAAlwAAAJYAAACYAAAAlwAAAJgAAACZAAAAlAAAAJoAAACbAAAAlAAAAJsAAACWAAAAnAAAAJ0AAACeAAAAnAAAAJ4AAACfAAAAnwAAAJ4AAACgAAAAnwAAAKAAAAChAAAAoQAAAKAAAACiAAAAoQAAAKIAAACjAAAAowAAAKIAAACkAAAAowAAAKQAAAClAAAAoAAAAKYAAACnAAAAoAAAAKcAAACiAAAAqAAAAKkAAACqAAAAqAAAAKoAAACrAAAAqwAAAKoAAACsAAAAqwAAAKwAAACtAAAArQAAAKwAAACuAAAArQAAAK4AAACvAAAArwAAAK4AAACwAAAArwAAALAAAACxAAAArAAAALIAAACzAAAArAAAALMAAACuAAAAtAAAALUAAAC2AAAAtAAAALYAAAC3AAAAtwAAALYAAAC4AAAAtwAAALgAAAC5AAAAuQAAALgAAAC6AAAAuQAAALoAAAC7AAAAuwAAALoAAAC8AAAAuwAAALwAAAC9AAAAuAAAAL4AAAC/AAAAuAAAAL8AAAC6AAAAwAAAAMEAAADCAAAAwAAAAMIAAADDAAAAwwAAAMIAAADEAAAAwwAAAMQAAADFAAAAxQAAAMQAAADGAAAAxQAAAMYAAADHAAAAxwAAAMYAAADIAAAAxwAAAMgAAADJAAAAxAAAAMoAAADLAAAAxAAAAMsAAADGAAAAzAAAAM0AAADOAAAAzAAAAM4AAADPAAAAzwAAAM4AAADQAAAAzwAAANAAAADRAAAA0QAAANAAAADSAAAA0QAAANIAAADTAAAA0wAAANIAAADUAAAA0wAAANQAAADVAAAA0AAAANYAAADXAAAA0AAAANcAAADSAAAA2AAAANkAAADaAAAA2AAAANoAAADbAAAA2wAAANoAAADcAAAA2wAAANwAAADdAAAA3QAAANwAAADeAAAA3QAAAN4AAADfAAAA3wAAAN4AAADgAAAA3wAAAOAAAADhAAAA3AAAAOIAAADjAAAA3AAAAOMAAADeAAAA5AAAAOUAAADmAAAA5AAAAOYAAADnAAAA5wAAAOYAAADoAAAA5wAAAOgAAADpAAAA6QAAAOgAAADqAAAA6QAAAOoAAADrAAAA6wAAAOoAAADsAAAA6wAAAOwAAADtAAAA6AAAAO4AAADvAAAA6AAAAO8AAADqAAAA8AAAAPEAAADyAAAA8gAAAPMAAAD0AAAA9AAAAPUAAAD2AAAA9gAAAPcAAAD4AAAA+AAAAPkAAAD6AAAA+gAAAPAAAADyAAAA9AAAAPYAAAD4AAAA+gAAAPIAAAD0AAAA9AAAAPgAAAD6AAAA+wAAAPwAAAD9AAAA+wAAAP0AAAD+AAAA/wAAAAABAAABAQAAAQEAAAIBAAADAQAAAwEAAAQBAAAFAQAABQEAAAYBAAAHAQAABwEAAAgBAAAJAQAACQEAAP8AAAABAQAAAQEAAAMBAAAFAQAABwEAAAkBAAABAQAAAQEAAAUBAAAHAQAACgEAAAsBAAAMAQAACgEAAAwBAAANAQAADgEAAA8BAAAQAQAADgEAABABAAARAQAAEgEAABMBAAAUAQAAEgEAABQBAAAVAQAAFgEAABcBAAATAQAAFgEAABMBAAASAQAAGAEAABkBAAAVAQAAGAEAABUBAAAaAQAA/QAAABsBAAAXAQAA/QAAABcBAAAWAQAADAEAAAsBAAAcAQAADAEAABwBAAAdAQAAHQEAABwBAAAZAQAAHQEAABkBAAAYAQAAEAEAAAoBAAANAQAAEAEAAA0BAAAeAQAAHwEAAPsAAAD+AAAAHwEAAP4AAAAPAQAAAQEAAAABAAAPAQAAAQEAAA8BAAD+AAAAAAEAAP8AAAAQAQAAAAEAABABAAAPAQAABQEAAAQBAAASAQAABQEAABIBAAAVAQAA/wAAAAkBAAAKAQAA/wAAAAoBAAAQAQAABAEAAAMBAAAWAQAABAEAABYBAAASAQAACAEAAAcBAAAcAQAACAEAABwBAAALAQAAAwEAAAIBAAD9AAAAAwEAAP0AAAAWAQAABwEAAAYBAAAZAQAABwEAABkBAAAcAQAABgEAAAUBAAAVAQAABgEAABUBAAAZAQAACQEAAAgBAAALAQAACQEAAAsBAAAKAQAAAgEAAAEBAAD+AAAAAgEAAP4AAAD9AAAA8QAAAPAAAAAfAQAA8QAAAB8BAAAgAQAA9gAAAPUAAAAhAQAA9gAAACEBAAAiAQAA+QAAAPgAAAAjAQAA+QAAACMBAAD8AAAA8AAAAPoAAAD7AAAA8AAAAPsAAAAfAQAA9wAAAPYAAAAiAQAA9wAAACIBAAAkAQAA8wAAAPIAAAAlAQAA8wAAACUBAAAmAQAA+AAAAPcAAAAkAQAA+AAAACQBAAAjAQAA9AAAAPMAAAAmAQAA9AAAACYBAAAnAQAA9QAAAPQAAAAnAQAA9QAAACcBAAAhAQAA8gAAAPEAAAAgAQAA8gAAACABAAAlAQAA+gAAAPkAAAD8AAAA+gAAAPwAAAD7AAAAKAEAACkBAAAqAQAAKAEAACoBAAArAQAALAEAAC0BAAAuAQAALAEAAC4BAAAvAQAAMAEAADEBAAAyAQAAMAEAADIBAAAzAQAANAEAADUBAAA2AQAANAEAADYBAAA3AQAAOAEAADUBAAA0AQAAOAEAADQBAAA5AQAANQEAADgBAAA6AQAANQEAADoBAAA2AQAALQEAACwBAAA7AQAALQEAADsBAAA8AQAAOwEAACwBAAAvAQAAOwEAAC8BAAA9AQAAPgEAAD8BAABAAQAAPgEAAEABAABBAQAAQgEAAEABAAA2AQAAQgEAADYBAAA6AQAANwEAADYBAAAvAQAANwEAAC8BAAAuAQAAPQEAAC8BAAA/AQAAPQEAAD8BAABDAQAALwEAADYBAABAAQAALwEAAEABAAA/AQAAMgEAADEBAABAAQAAMgEAAEABAABCAQAAKgEAACkBAABDAQAAKgEAAEMBAAA/AQAAMQEAADABAABBAQAAMQEAAEEBAABAAQAAKwEAACoBAAA/AQAAKwEAAD8BAAA+AQAA\"\n",
       "        }\n",
       "      ]\n",
       "    },\n",
       "    \"e6ab6a2880244725979b64219d3dc004\": {\n",
       "      \"model_name\": \"BufferAttributeModel\",\n",
       "      \"model_module\": \"jupyter-threejs\",\n",
       "      \"model_module_version\": \"^2.4.1\",\n",
       "      \"state\": {\n",
       "        \"array\": {\n",
       "          \"shape\": [\n",
       "            324,\n",
       "            3\n",
       "          ],\n",
       "          \"dtype\": \"float32\"\n",
       "        }\n",
       "      },\n",
       "      \"buffers\": [\n",
       "        {\n",
       "          \"encoding\": \"base64\",\n",
       "          \"path\": [\n",
       "            \"array\",\n",
       "            \"buffer\"\n",
       "          ],\n",
       "          \"data\": \"SVPIwgDhD8PhfgvASVPIwgDhD8NlM6FCSVPIwsD9acJlM6FCSVPIwsD9acLhfgvAbUYawsD9acJlM6FCbUYawsD9acLhfgvAbUYawgDhD8NlM6FCbUYawgDhD8PhfgvASVPIwgDhD8NlM6FCSVPIwgDhD8PhfgvASVPIwsD9acJlM6FCSVPIwgDhD8NlM6FC+mKvwtKUoEL3n/DA+mKvwtKUoEJMyhRD+mKvwtKU8EJMyhRD+mKvwtKU8EL3n/DA88U+wtKU8EJMyhRD88U+wtKU8EL3n/DA88U+wtKUoEJMyhRD88U+wtKUoEL3n/DA+mKvwtKUoEJMyhRD+mKvwtKUoEL3n/DA+mKvwtKU8EJMyhRD+mKvwtKUoEJMyhRDhDmfwsFfZMPhfgvAhDmfwsFfZMNlM6FChDmfwnX3EMNlM6FChDmfwnX3EMPhfgvAB3MewnX3EMNlM6FCB3MewnX3EMPhfgvAB3MewsFfZMNlM6FCB3MewsFfZMPhfgvAhDmfwsFfZMNlM6FChDmfwsFfZMPhfgvAhDmfwnX3EMNlM6FChDmfwsFfZMNlM6FCSVPIwmRqBUPhfgvASVPIwmRqBUNlM6FCSVPIwvTLWkNlM6FCSVPIwvTLWkPhfgvAbUYawvTLWkNlM6FCbUYawvTLWkPhfgvAbUYawmRqBUNlM6FCbUYawmRqBUPhfgvASVPIwmRqBUNlM6FCSVPIwmRqBUPhfgvASVPIwvTLWkNlM6FCSVPIwmRqBUNlM6FCOFw6Qjz+LsPhfgvAOFw6Qjz+LsNlM6FCOFw6QuArt8JlM6FCOFw6QuArt8LhfgvAHC6tQuArt8JlM6FCHC6tQuArt8LhfgvAHC6tQjz+LsNlM6FCHC6tQjz+LsPhfgvAOFw6Qjz+LsNlM6FCOFw6Qjz+LsPhfgvAOFw6QuArt8JlM6FCOFw6Qjz+LsNlM6FCPsMwQtrff8OA9irBPsMwQtrff8ME1UJDPsMwQv80LMME1UJDPsMwQv80LMOA9irB50KkQv80LMME1UJD50KkQv80LMOA9irB50KkQtrff8ME1UJD50KkQtrff8OA9irBPsMwQtrff8ME1UJDPsMwQtrff8OA9irBPsMwQv80LMME1UJDPsMwQtrff8ME1UJDiRQnQgfXvMKpxHa/iRQnQgfXvMLm35BCiRQnQngWccLm35BCiRQnQngWccKpxHa/Jl2/QngWccLm35BCJl2/QngWccKpxHa/Jl2/QgfXvMLm35BCJl2/QgfXvMKpxHa/iRQnQgfXvMLm35BCiRQnQgfXvMKpxHa/iRQnQngWccLm35BCiRQnQgfXvMLm35BCVKqzQiKxwsJinVrAVKqzQiKxwsKW9xJDVKqzQkNiZcKW9xJDVKqzQkNiZcJinVrAaTcVQ0NiZcKW9xJDaTcVQ0NiZcJinVrAaTcVQyKxwsKW9xJDaTcVQyKxwsJinVrAVKqzQiKxwsKW9xJDVKqzQiKxwsJinVrAVKqzQkNiZcKW9xJDVKqzQiKxwsKW9xJD2PobQyGxwsLUUXq/2PobQyGxwsJG7aNC2PobQ0JiZcJG7aNC2PobQ0JiZcLUUXq/2PpDQ0JiZcJG7aNC2PpDQ0JiZcLUUXq/2PpDQyGxwsJG7aNC2PpDQyGxwsLUUXq/2PobQyGxwsJG7aNC2PobQyGxwsLUUXq/2PobQ0JiZcJG7aNC2PobQyGxwsJG7aNC2PobQ6w7WkJ3HbnA2PobQ6w7WkJLP/tC2PobQ9YdvUJLP/tC2PobQ9YdvUJ3HbnA2PpDQ9YdvUJLP/tC2PpDQ9YdvUJ3HbnA2PpDQ6w7WkJLP/tC2PpDQ6w7WkJ3HbnA2PobQ6w7WkJLP/tC2PobQ6w7WkJ3HbnA2PobQ9YdvUJLP/tC2PobQ6w7WkJLP/tC0+CzQqw7WkKp2RvA0+CzQqw7WkJOtGlC0+CzQtYdvUJOtGlC0+CzQtYdvUKp2RvAKhwVQ9YdvUJOtGlCKhwVQ9YdvUKp2RvAKhwVQ6w7WkJOtGlCKhwVQ6w7WkKp2RvA0+CzQqw7WkJOtGlC0+CzQqw7WkKp2RvA0+CzQtYdvUJOtGlC0+CzQqw7WkJOtGlCXx0wQkPYoUK+CQ/AXx0wQkPYoUI/hi1CXx0wQkMUUkM/hi1CXx0wQkMUUkO+CQ/AMWbOQkMUUkM/hi1CMWbOQkMUUkO+CQ/AMWbOQkPYoUI/hi1CMWbOQkPYoUK+CQ/AXx0wQkPYoUI/hi1CXx0wQkPYoUK+CQ/AXx0wQkMUUkM/hi1CXx0wQkPYoUI/hi1CenkcQq07WkKpxHa/enkcQq07WkLm35BCenkcQtYdvULm35BCenkcQtYdvUKpxHa/vTyeQtYdvULm35BCvTyeQtYdvUKpxHa/vTyeQq07WkLm35BCvTyeQq07WkKpxHa/enkcQq07WkLm35BCenkcQq07WkKpxHa/enkcQtYdvULm35BCenkcQq07WkLm35BC9WIhQscST0OpxHa/9WIhQscST0Pm35BC9WIhQscSd0Pm35BC9WIhQscSd0OpxHa/erGgQscSd0Pm35BCerGgQscSd0OpxHa/erGgQscST0Pm35BCerGgQscST0OpxHa/9WIhQscST0Pm35BC9WIhQscST0OpxHa/9WIhQscSd0Pm35BC9WIhQscST0Pm35BCEnmmwuVBWUOpxHa/EnmmwuVBWUPm35BCEnmmwvOggEPm35BCEnmmwvOggEOpxHa/IvIswvOggEPm35BCIvIswvOggEOpxHa/IvIswuVBWUPm35BCIvIswuVBWUOpxHa/EnmmwuVBWUPm35BCEnmmwuVBWUOpxHa/EnmmwvOggEPm35BCEnmmwuVBWUPm35BCjvgKwyGxwsImJp/AjvgKwyGxwsL8xThDjvgKw0JiZcL8xThDjvgKw0JiZcImJp/As/HPwkJiZcL8xThDs/HPwkJiZcImJp/As/HPwiGxwsL8xThDs/HPwiGxwsImJp/AjvgKwyGxwsL8xThDjvgKwyGxwsImJp/AjvgKw0JiZcL8xThDjvgKwyGxwsL8xThDdilAwyKxwsK33S3AdilAwyKxwsJEp25CdilAw0NiZcJEp25CdilAw0NiZcK33S3AdikYw0NiZcJEp25CdikYw0NiZcK33S3AdikYwyKxwsJEp25CdikYwyKxwsK33S3AdilAwyKxwsJEp25CdilAwyKxwsK33S3AdilAw0NiZcJEp25CdilAwyKxwsJEp25CQ6ZVw4WkQkKElYu/Q6ZVw4WkQkKoRudBQ6ZVw/m620KoRudBQ6ZVw/m620KElYu/qawCw/m620KoRudBqawCw/m620KElYu/qawCw4WkQkKoRudBqawCw4WkQkKElYu/Q6ZVw4WkQkKoRudBQ6ZVw4WkQkKElYu/Q6ZVw/m620KoRudBQ6ZVw4WkQkKoRudBnNoUwzpUMUL3n/DAnNoUwzpUMUJMyhRDnNoUwx6qqEJMyhRDnNoUwx6qqEL3n/DAOLXZwh6qqEJMyhRDOLXZwh6qqEL3n/DAOLXZwjpUMUJMyhRDOLXZwjpUMUL3n/DAnNoUwzpUMUJMyhRDnNoUwzpUMUL3n/DAnNoUwx6qqEJMyhRDnNoUwzpUMUJMyhRDUHbWwjpUMUKT0C3AUHbWwjpUMUK5GBRCUHbWwh6qqEK5GBRCUHbWwh6qqEKT0C3ADzAawh6qqEK5GBRCDzAawh6qqEKT0C3ADzAawjpUMUK5GBRCDzAawjpUMUKT0C3AUHbWwjpUMUK5GBRCUHbWwjpUMUKT0C3AUHbWwh6qqEK5GBRCUHbWwjpUMUK5GBRC69xuwbwM8kFMXBS/69xuwabEzUFMXBS/69xuwWcpzUHnmqa+69xuwcvKzUGwtnq969xuwSmo1kHYQ84969xuwd1V2UFZvhA/69xuwSkN3UEl31Y/69xuwRF250FXrlY/69xuwUGm60EM9jQ+69xuwc3E8UGI89k969xuwUic80Ge9Xu+/pxtwZqD9EEORXm+/pxtwSg58kGcrEc+kXBSwSg58kGcrEc+kXBSwZqD9EEORXm+hhVRwW7BzUE82BS/hhVRwRcP8kE82BS/hhVRwfig80Gu53u+hhVRwSjH8UEooN09hhVRwWWo60HszjY+hhVRwRF450E/Klc/hhVRwSYM3UEbW1c/hhVRwS1T2UFt6xA/hhVRwQam1kEIzc49hhVRwYbHzUFIHYC9hhVRwUglzUGnZqe+kXBSwYRazEGnZqe+kXBSwc0uzUHglJs8/pxtwc0uzUEgDbU8/pxtwYRazEHnmqa+/pxtwQqB8kFOQyy/kXBSwQqB8kFOQyy/kXBSwc0uzUFOQyy//pxtwc0uzUFOQyy/kXBSwbfY50GNk24//pxtwbbY50GNk24//pxtwRbV3EEvx24/kXBSwRbV3EEvx24/kXBSwdcP7EHKE4g+/pxtwdcP7EHKE4g+/pxtwTnK2EFPfSI/kXBSwTnK2EELSiI//pxtwRbV3EEvx24//pxtwSg58kGcrEc+kXBSwYQ11kEc3z0+/pxtwYQ11kGkdj8+/pxtwc0uzUFOQyy//pxtwQqB8kFOQyy//pxtwc0uzUFOQyy//pxtwTnK2EFPfSI//pxtwRbV3EEvx24//pxtwdcP7EHKE4g+/pxtwbbY50GNk24//pxtwYRazEHnmqa+/pxtwc0uzUEgDbU8/pxtwYQ11kGkdj8+KWsjw59dUMM9NQW+zzaiwZ9dUMM9NQW+5jmYwe0FDcI9NQW+KWsjw1HzBcI9NQW+gmK4QY0VD8I9NQW+g7shQ57gFcI9NQW+g7shQ57gFcJgB3K/gmK4QY0VD8JgB3K/KWsjw04s0UE9NQW+StqYwSd2ykE9NQW+Z6KXwRszUEM9NQW+KWsjwxszUEM9NQW+g7shQyANwkE9NQW+i8iuQY+OyEE9NQW+i8iuQY+OyEFgB3K/g7shQyANwkFgB3K/UGqqQRszUEM9NQW+g7shQxszUEM9NQW+UGqqQRszUENgB3K/sF64QZ9dUMM9NQW+g7shQ59dUMM9NQW+sF64QZ9dUMNgB3K/KWsjw1HzBcJgB3K/5jmYwe0FDcJgB3K/StqYwSd2ykFgB3K/KWsjw04s0UFgB3K/Z6KXwRszUENgB3K/zzaiwZ9dUMNgB3K/\"\n",
       "        }\n",
       "      ]\n",
       "    },\n",
       "    \"09dbca58b41c403ca36c120001ef18c6\": {\n",
       "      \"model_name\": \"BufferAttributeModel\",\n",
       "      \"model_module\": \"jupyter-threejs\",\n",
       "      \"model_module_version\": \"^2.4.1\",\n",
       "      \"state\": {\n",
       "        \"array\": {\n",
       "          \"shape\": [\n",
       "            324,\n",
       "            3\n",
       "          ],\n",
       "          \"dtype\": \"float32\"\n",
       "        }\n",
       "      },\n",
       "      \"buffers\": [\n",
       "        {\n",
       "          \"encoding\": \"base64\",\n",
       "          \"path\": [\n",
       "            \"array\",\n",
       "            \"buffer\"\n",
       "          ],\n",
       "          \"data\": \"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\"\n",
       "        }\n",
       "      ]\n",
       "    },\n",
       "    \"f339634e64d145698a79696d36df1abf\": {\n",
       "      \"model_name\": \"BufferGeometryModel\",\n",
       "      \"model_module\": \"jupyter-threejs\",\n",
       "      \"model_module_version\": \"^2.4.1\",\n",
       "      \"state\": {\n",
       "        \"_ref_geometry\": null,\n",
       "        \"attributes\": {\n",
       "          \"index\": \"IPY_MODEL_2a82cb31f40147528f0451b7bf90aac2\",\n",
       "          \"position\": \"IPY_MODEL_e6ab6a2880244725979b64219d3dc004\",\n",
       "          \"color\": \"IPY_MODEL_09dbca58b41c403ca36c120001ef18c6\"\n",
       "        },\n",
       "        \"index\": null,\n",
       "        \"morphAttributes\": {},\n",
       "        \"userData\": {}\n",
       "      }\n",
       "    },\n",
       "    \"b73caf06001f4a308fc6e8af2fa8e14c\": {\n",
       "      \"model_name\": \"MeshStandardMaterialModel\",\n",
       "      \"model_module\": \"jupyter-threejs\",\n",
       "      \"model_module_version\": \"^2.4.1\",\n",
       "      \"state\": {\n",
       "        \"alphaMap\": null,\n",
       "        \"aoMap\": null,\n",
       "        \"bumpMap\": null,\n",
       "        \"clippingPlanes\": [],\n",
       "        \"defines\": {\n",
       "          \"STANDARD\": \"\"\n",
       "        },\n",
       "        \"displacementMap\": null,\n",
       "        \"emissiveMap\": null,\n",
       "        \"envMap\": null,\n",
       "        \"flatShading\": true,\n",
       "        \"lightMap\": null,\n",
       "        \"map\": null,\n",
       "        \"metalness\": 0.0,\n",
       "        \"metalnessMap\": null,\n",
       "        \"normalMap\": null,\n",
       "        \"roughness\": 1.0,\n",
       "        \"roughnessMap\": null,\n",
       "        \"side\": \"DoubleSide\",\n",
       "        \"vertexColors\": \"VertexColors\"\n",
       "      }\n",
       "    },\n",
       "    \"1cc3a1604c6f46889a7dce1124e8a6a4\": {\n",
       "      \"model_name\": \"MeshModel\",\n",
       "      \"model_module\": \"jupyter-threejs\",\n",
       "      \"model_module_version\": \"^2.4.1\",\n",
       "      \"state\": {\n",
       "        \"children\": [],\n",
       "        \"geometry\": \"IPY_MODEL_f339634e64d145698a79696d36df1abf\",\n",
       "        \"material\": \"IPY_MODEL_b73caf06001f4a308fc6e8af2fa8e14c\",\n",
       "        \"morphTargetInfluences\": []\n",
       "      }\n",
       "    }\n",
       "  }\n",
       "}\n",
       "</script>\n",
       "<script type=\"application/vnd.jupyter.widget-view+json\">\n",
       "{\"version_major\": 2, \"version_minor\": 0, \"model_id\": \"b9f1632536d7442580b94b0fd72c8d70\"}\n",
       "</script>\n"
      ],
      "text/plain": [
       "Renderer(camera=PerspectiveCamera(aspect=1.31, children=(DirectionalLight(intensity=0.25, position=(0.0, 0.0, …"
      ]
     },
     "execution_count": 3,
     "metadata": {},
     "output_type": "execute_result"
    }
   ],
   "source": [
    "scene.preview()"
   ]
  },
  {
   "cell_type": "code",
   "execution_count": 197,
   "metadata": {},
   "outputs": [
    {
     "data": {
      "text/plain": [
       "Text(0, 0.5, '$|a|$')"
      ]
     },
     "execution_count": 197,
     "metadata": {},
     "output_type": "execute_result"
    },
    {
     "data": {
      "image/png": "[encoded data removed]",
      "text/plain": [
       "<Figure size 640x480 with 1 Axes>"
      ]
     },
     "metadata": {},
     "output_type": "display_data"
    }
   ],
   "source": [
    "a, tau = paths.cir()\n",
    "t = tau[0,0,0,:]/1e-9 # Scale to ns\n",
    "a_abs = np.abs(a)[0,0,0,0,0,:,0]\n",
    "t = t[a_abs!=0]\n",
    "a_abs = a_abs[a_abs!=0]\n",
    "a_max = np.max(a_abs)\n",
    "# Add dummy entry at start/end for nicer figure\n",
    "t = np.concatenate([(0.,), t, (np.max(t)*1.1,)])\n",
    "a_abs = np.concatenate([(np.nan,), a_abs, (np.nan,)])\n",
    "\n",
    "# And plot the CIR\n",
    "plt.figure()\n",
    "plt.title(\"Channel impulse response realization\")\n",
    "\n",
    "plt.stem(t, a_abs)\n",
    "plt.xlim([0, np.max(t)])\n",
    "plt.ylim([0, a_max*1.1])\n",
    "plt.xlabel(r\"$\\tau$ [ns]\")\n",
    "plt.ylabel(r\"$|a|$\")"
   ]
  },
  {
   "cell_type": "code",
   "execution_count": 198,
   "metadata": {},
   "outputs": [],
   "source": [
    "v,obj=scene.compute_target_velocities(paths, return_obj_names=True)"
   ]
  },
  {
   "cell_type": "code",
   "execution_count": 199,
   "metadata": {},
   "outputs": [],
   "source": [
    "subcarrier_spacing = 15e3\n",
    "num_time_steps = 1\n",
    "paths.apply_doppler(sampling_frequency=subcarrier_spacing, num_time_steps=num_time_steps,target_velocities=v)"
   ]
  },
  {
   "cell_type": "code",
   "execution_count": 200,
   "metadata": {},
   "outputs": [],
   "source": [
    "a,tau = paths.cir()\n",
    "subcarrier_num = 64\n",
    "subcarrier_spacing = 15e3\n",
    "frequencies = subcarrier_frequencies(subcarrier_num, subcarrier_spacing)\n",
    "h_freq = cir_to_ofdm_channel(frequencies, a, tau, normalize=True)\n",
    "ebno_db = 20"
   ]
  },
  {
   "cell_type": "code",
   "execution_count": 167,
   "metadata": {},
   "outputs": [],
   "source": [
    "# 纯物体CSI\n",
    "h1 = h_freq"
   ]
  },
  {
   "cell_type": "code",
   "execution_count": 184,
   "metadata": {},
   "outputs": [],
   "source": [
    "# 纯环境CSI\n",
    "h2 = h_freq"
   ]
  },
  {
   "cell_type": "code",
   "execution_count": 201,
   "metadata": {},
   "outputs": [],
   "source": [
    "h3 = h_freq"
   ]
  },
  {
   "cell_type": "code",
   "execution_count": 207,
   "metadata": {},
   "outputs": [],
   "source": [
    "h_ev = np.array(h3[0,0,0,0,0,0,:] - h2[0,0,0,0,0,0,:])\n",
    "h_crb = np.array(h1[0,0,0,0,0,0,:])"
   ]
  },
  {
   "cell_type": "code",
   "execution_count": 208,
   "metadata": {},
   "outputs": [
    {
     "data": {
      "text/plain": [
       "[<matplotlib.lines.Line2D at 0x7fad6a5214f0>]"
      ]
     },
     "execution_count": 208,
     "metadata": {},
     "output_type": "execute_result"
    },
    {
     "data": {
      "image/png": "[encoded data removed]",
      "text/plain": [
       "<Figure size 1800x600 with 2 Axes>"
      ]
     },
     "metadata": {},
     "output_type": "display_data"
    }
   ],
   "source": [
    "start = 0\n",
    "end = 100\n",
    "step = 0.1\n",
    "y_i = h3[0,0,0,0,0,0,:] - h2[0,0,0,0,0,0,:]#  + h1[0,0,0,0,0,0,:]\n",
    "y_i = tf.squeeze(y_i)\n",
    "y_i = tf.expand_dims(y_i, axis=0)\n",
    "y_i_H = tf.transpose(tf.math.conj(y_i))\n",
    "y_conv = tf.matmul(y_i_H, y_i)\n",
    "eig_vals, eig_vecs = tf.linalg.eigh(y_conv)\n",
    "tau_range = np.arange(start,end, step)\n",
    "frequencies_c = tf.cast(frequencies, dtype=tf.complex64)\n",
    "\n",
    "P_tau_array = tf.TensorArray(dtype=tf.complex64, size=len(tau_range))\n",
    "G_n = tf.cast(eig_vecs[:,:-1], dtype=tf.complex64)\n",
    "G_n_H = tf.math.conj(tf.transpose(G_n))\n",
    "for idx in range(len(tau_range)):\n",
    "    a_m = tf.expand_dims(tf.math.exp(-1j * 2 * np.pi * frequencies_c * (tau_range[idx]/1e9)), axis=0)\n",
    "    a_m_H = tf.math.conj(tf.transpose(a_m))\n",
    "    P_tau_array = P_tau_array.write(idx, 1 / (a_m @ G_n @ G_n_H @ a_m_H))\n",
    "\n",
    "P_tau = P_tau_array.stack()\n",
    "# 计算谱函数\n",
    "P_tau_real, P_tau_imag = tf.math.real(P_tau), tf.math.imag(P_tau)\n",
    "P_abs = tf.math.sqrt(P_tau_real**2 + P_tau_imag**2)\n",
    "P_norm = 10 * tf.math.log(P_abs / tf.reduce_max(P_abs), 10)\n",
    "P_norm = tf.squeeze(P_norm)\n",
    "max_idx = tf.argmax(P_norm)\n",
    "# 绘制\n",
    "# 调整画布大小\n",
    "plt.figure(figsize=(18, 6))\n",
    "plt.subplot(1, 2, 1)\n",
    "plt.plot(tau_range, tf.squeeze(P_norm))\n",
    "plt.title(f\"tau:{(start + int(max_idx) * step)}\")\n",
    "plt.subplot(1, 2, 2)\n",
    "plt.plot(tau_range, tf.squeeze(P_abs))"
   ]
  },
  {
   "cell_type": "code",
   "execution_count": 111,
   "metadata": {},
   "outputs": [
    {
     "data": {
      "text/plain": [
       "-2.0378633"
      ]
     },
     "execution_count": 111,
     "metadata": {},
     "output_type": "execute_result"
    }
   ],
   "source": [
    "np.mean(P_norm)"
   ]
  },
  {
   "cell_type": "code",
   "execution_count": 56,
   "metadata": {},
   "outputs": [
    {
     "ename": "ResourceExhaustedError",
     "evalue": "{{function_node __wrapped__BatchMatMulV2_device_/job:localhost/replica:0/task:0/device:GPU:0}} OOM when allocating tensor with shape[1,1,1,1,1,14,14488,14488] and type complex64 on /job:localhost/replica:0/task:0/device:GPU:0 by allocator GPU_0_bfc [Op:BatchMatMulV2] name: ",
     "output_type": "error",
     "traceback": [
      "\u001b[0;31m---------------------------------------------------------------------------\u001b[0m",
      "\u001b[0;31mResourceExhaustedError\u001b[0m                    Traceback (most recent call last)",
      "Cell \u001b[0;32mIn [56], line 1\u001b[0m\n\u001b[0;32m----> 1\u001b[0m crb \u001b[38;5;241m=\u001b[39m \u001b[43mpaths\u001b[49m\u001b[38;5;241;43m.\u001b[39;49m\u001b[43mcrb_delay\u001b[49m\u001b[43m(\u001b[49m\u001b[43m)\u001b[49m\n",
      "File \u001b[0;32m~/sionna/mysionna/rt/paths.py:740\u001b[0m, in \u001b[0;36mPaths.crb_delay\u001b[0;34m(self, snr, diag, mask)\u001b[0m\n\u001b[1;32m    738\u001b[0m alpha_2 \u001b[38;5;241m=\u001b[39m tf\u001b[38;5;241m.\u001b[39mtranspose(alpha,perm\u001b[38;5;241m=\u001b[39m[\u001b[38;5;241m0\u001b[39m,\u001b[38;5;241m1\u001b[39m,\u001b[38;5;241m2\u001b[39m,\u001b[38;5;241m3\u001b[39m,\u001b[38;5;241m4\u001b[39m,\u001b[38;5;241m7\u001b[39m,\u001b[38;5;241m6\u001b[39m,\u001b[38;5;241m5\u001b[39m])\n\u001b[1;32m    739\u001b[0m \u001b[38;5;66;03m# [batch_size, num_rx, num_rx_ant, num_tx, num_tx_ant, num_time_steps, max_num_paths, max_num_paths]\u001b[39;00m\n\u001b[0;32m--> 740\u001b[0m alpha_ij \u001b[38;5;241m=\u001b[39m \u001b[43mtf\u001b[49m\u001b[38;5;241;43m.\u001b[39;49m\u001b[43mmatmul\u001b[49m\u001b[43m(\u001b[49m\u001b[43malpha_1\u001b[49m\u001b[43m,\u001b[49m\u001b[43malpha_2\u001b[49m\u001b[43m)\u001b[49m\n\u001b[1;32m    741\u001b[0m \u001b[38;5;66;03m# [batch_size, num_rx, num_rx_ant, num_tx, num_tx_ant, max_num_paths, max_num_paths, num_time_steps]\u001b[39;00m\n\u001b[1;32m    742\u001b[0m alpha_ij \u001b[38;5;241m=\u001b[39m tf\u001b[38;5;241m.\u001b[39mtranspose(alpha_ij,perm\u001b[38;5;241m=\u001b[39m[\u001b[38;5;241m0\u001b[39m,\u001b[38;5;241m1\u001b[39m,\u001b[38;5;241m2\u001b[39m,\u001b[38;5;241m3\u001b[39m,\u001b[38;5;241m4\u001b[39m,\u001b[38;5;241m6\u001b[39m,\u001b[38;5;241m7\u001b[39m,\u001b[38;5;241m5\u001b[39m])\n",
      "File \u001b[0;32m~/miniconda3/lib/python3.8/site-packages/tensorflow/python/util/traceback_utils.py:153\u001b[0m, in \u001b[0;36mfilter_traceback.<locals>.error_handler\u001b[0;34m(*args, **kwargs)\u001b[0m\n\u001b[1;32m    151\u001b[0m \u001b[38;5;28;01mexcept\u001b[39;00m \u001b[38;5;167;01mException\u001b[39;00m \u001b[38;5;28;01mas\u001b[39;00m e:\n\u001b[1;32m    152\u001b[0m   filtered_tb \u001b[38;5;241m=\u001b[39m _process_traceback_frames(e\u001b[38;5;241m.\u001b[39m__traceback__)\n\u001b[0;32m--> 153\u001b[0m   \u001b[38;5;28;01mraise\u001b[39;00m e\u001b[38;5;241m.\u001b[39mwith_traceback(filtered_tb) \u001b[38;5;28;01mfrom\u001b[39;00m \u001b[38;5;28mNone\u001b[39m\n\u001b[1;32m    154\u001b[0m \u001b[38;5;28;01mfinally\u001b[39;00m:\n\u001b[1;32m    155\u001b[0m   \u001b[38;5;28;01mdel\u001b[39;00m filtered_tb\n",
      "File \u001b[0;32m~/miniconda3/lib/python3.8/site-packages/tensorflow/python/framework/ops.py:6656\u001b[0m, in \u001b[0;36mraise_from_not_ok_status\u001b[0;34m(e, name)\u001b[0m\n\u001b[1;32m   6654\u001b[0m \u001b[38;5;28;01mdef\u001b[39;00m \u001b[38;5;21mraise_from_not_ok_status\u001b[39m(e, name):\n\u001b[1;32m   6655\u001b[0m   e\u001b[38;5;241m.\u001b[39mmessage \u001b[38;5;241m+\u001b[39m\u001b[38;5;241m=\u001b[39m (\u001b[38;5;124m\"\u001b[39m\u001b[38;5;124m name: \u001b[39m\u001b[38;5;124m\"\u001b[39m \u001b[38;5;241m+\u001b[39m \u001b[38;5;28mstr\u001b[39m(name \u001b[38;5;28;01mif\u001b[39;00m name \u001b[38;5;129;01mis\u001b[39;00m \u001b[38;5;129;01mnot\u001b[39;00m \u001b[38;5;28;01mNone\u001b[39;00m \u001b[38;5;28;01melse\u001b[39;00m \u001b[38;5;124m\"\u001b[39m\u001b[38;5;124m\"\u001b[39m))\n\u001b[0;32m-> 6656\u001b[0m   \u001b[38;5;28;01mraise\u001b[39;00m core\u001b[38;5;241m.\u001b[39m_status_to_exception(e) \u001b[38;5;28;01mfrom\u001b[39;00m \u001b[38;5;28mNone\u001b[39m\n",
      "\u001b[0;31mResourceExhaustedError\u001b[0m: {{function_node __wrapped__BatchMatMulV2_device_/job:localhost/replica:0/task:0/device:GPU:0}} OOM when allocating tensor with shape[1,1,1,1,1,14,14488,14488] and type complex64 on /job:localhost/replica:0/task:0/device:GPU:0 by allocator GPU_0_bfc [Op:BatchMatMulV2] name: "
     ]
    }
   ],
   "source": [
    "crb = paths.crb_delay()"
   ]
  },
  {
   "cell_type": "code",
   "execution_count": 12,
   "metadata": {},
   "outputs": [
    {
     "data": {
      "text/plain": [
       "True"
      ]
     },
     "execution_count": 12,
     "metadata": {},
     "output_type": "execute_result"
    }
   ],
   "source": [
    "paths.export_crb(crb,\"test.xyzrgb\",BS_pos = [0,0,2.95])"
   ]
  },
  {
   "cell_type": "code",
   "execution_count": null,
   "metadata": {},
   "outputs": [],
   "source": [
    "import json\n",
    "import numpy as np\n",
    "import matplotlib.pyplot as plt\n",
    "scene_name = \"indoor\"\n",
    "target = \"human1\"\n",
    "#read config and turn it to global variables\n",
    "config = json.load(open(\"crb_validation_config.json\"))\n",
    "subcarrier_spacing = config.get(\"subcarrier_spacing\")\n",
    "subcarrier_num = config.get(\"subcarrier_num\")\n",
    "num_time_steps = config.get(\"num_time_steps\")\n",
    "ebno_db = config.get(\"ebno_db\")\n",
    "num_samples = config.get(\"num_samples\")\n",
    "batch_size = config.get(\"batch_size\")\n",
    "max_depth = config.get(\"max_depth\")\n",
    "step = config.get(\"step\")\n",
    "los = config.get(\"los\")\n",
    "reflection = config.get(\"reflection\")\n",
    "scattering = config.get(\"scattering\")\n",
    "diffraction = config.get(\"diffraction\")\n",
    "edge_diffraction = config.get(\"edge_diffraction\")\n",
    "ray_type = \"TTTTT\"\n",
    "x = 10\n",
    "y = 6\n",
    "cell_size = 0.5\n",
    "col = int(y/cell_size)+1\n",
    "title = f\"{num_samples}-{ray_type}-{max_depth}-{step}-{batch_size}-{x}-{y}-{cell_size}\"\n",
    "with open(f\"./Data/{scene_name}/{target}/{title}/tau_true.txt\",\"r\") as f:\n",
    "    tau_true = f.readlines()\n",
    "    tau_true = np.array([float(i) for i in tau_true])\n",
    "with open(f\"./Data/{scene_name}/{target}/{title}/tau_est.txt\",\"r\") as f:\n",
    "    tau_est = f.readlines()\n",
    "    tau_est = np.array([float(i) for i in tau_est])\n",
    "crb = np.load(f\"./Data/{scene_name}/{target}/{title}/crb.npy\")\n",
    "crb = crb*3e8\n",
    "crb = np.log10(crb)\n",
    "crb = np.reshape(crb,(-1,col))\n",
    "\n",
    "pad = 0\n",
    "\n",
    "mse = np.abs(tau_true-tau_est)\n",
    "mse = np.reshape(mse,(-1,col))\n",
    "tau_true = np.reshape(tau_true,(-1,col))\n",
    "tau_est = np.reshape(tau_est,(-1,col))\n",
    "mask = mse >= 1\n",
    "mse[mask] = pad\n",
    "mask = tau_est==0\n",
    "mse[mask] = pad\n",
    "mask = tau_true==999999 \n",
    "mse[mask] = pad\n",
    "mask = tau_true==0\n",
    "mse[mask] = pad\n",
    "mask = tau_true==-1\n",
    "mse[mask] = pad\n",
    "mse = mse*3e8\n",
    "mse = np.log10(mse)\n",
    "# 逆时针旋转九十度\n",
    "mse = np.rot90(mse)\n",
    "crb = np.rot90(crb)\n",
    "# x轴对称\n",
    "mse = np.flip(mse,1)\n",
    "crb = np.flip(crb,1)\n",
    "mse = np.flip(mse,0)\n",
    "crb = np.flip(crb,0)\n",
    "# set figure size\n",
    "plt.figure(figsize=(10, 5))\n",
    "plt.subplots_adjust(wspace=0.5)\n",
    "plt.subplot(121)\n",
    "plt.title(\"Indoor Sensing MSE\")\n",
    "plt.xlabel(\"x axis(0.5m)\")\n",
    "plt.ylabel(\"y axis(0.5m)\")\n",
    "plt.imshow(mse)\n",
    "# set colorbar size\n",
    "plt.colorbar(fraction=0.046, pad=0.04)\n",
    "plt.subplot(122)\n",
    "plt.title(\"Indoor Sensing CRB\")\n",
    "plt.xlabel(\"x axis(0.5m)\")\n",
    "plt.ylabel(\"y axis(0.5m)\")\n",
    "plt.imshow(crb)\n",
    "plt.colorbar(fraction=0.046, pad=0.04)\n",
    "plt.savefig(f\"./Data/{scene_name}/{target}/out.png\")"
   ]
  },
  {
   "cell_type": "code",
   "execution_count": null,
   "metadata": {},
   "outputs": [],
   "source": [
    "import mitsuba as mi\n",
    "scene_params = mi.traverse(scene._scene)\n",
    "scene_params"
   ]
  },
  {
   "cell_type": "code",
   "execution_count": null,
   "metadata": {},
   "outputs": [],
   "source": [
    "human = mi.load_dict({'type': 'ply',\n",
    "                    'filename': './scenes/Indoor/meshes/human1.ply'})\n",
    "human"
   ]
  },
  {
   "cell_type": "code",
   "execution_count": null,
   "metadata": {},
   "outputs": [],
   "source": [
    "scene._scene.shapes()"
   ]
  }
 ],
 "metadata": {
  "kernelspec": {
   "display_name": "Python 3 (ipykernel)",
   "language": "python",
   "name": "python3"
  },
  "language_info": {
   "codemirror_mode": {
    "name": "ipython",
    "version": 3
   },
   "file_extension": ".py",
   "mimetype": "text/x-python",
   "name": "python",
   "nbconvert_exporter": "python",
   "pygments_lexer": "ipython3",
   "version": "3.8.10"
  }
 },
 "nbformat": 4,
 "nbformat_minor": 4
}
