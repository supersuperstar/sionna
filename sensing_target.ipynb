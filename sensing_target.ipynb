{
 "cells": [
  {
   "cell_type": "code",
   "execution_count": 1,
   "metadata": {},
   "outputs": [
    {
     "name": "stdout",
     "output_type": "stream",
     "text": [
      "Jupyter environment detected. Enabling Open3D WebVisualizer.\n",
      "[Open3D INFO] WebRTC GUI backend enabled.\n",
      "[Open3D INFO] WebRTCWindowSystem: HTTP handshake server disabled.\n"
     ]
    }
   ],
   "source": [
    "import os\n",
    "gpu_num = 0 # 使用 \"\" 来启用 CPU\n",
    "os.environ[\"CUDA_VISIBLE_DEVICES\"] = f\"{gpu_num}\"\n",
    "os.environ['TF_CPP_MIN_LOG_LEVEL'] = '3'\n",
    "\n",
    "import tensorflow as tf\n",
    "gpus = tf.config.list_physical_devices('GPU')\n",
    "if gpus:\n",
    "    try:\n",
    "        tf.config.experimental.set_memory_growth(gpus[0], True)\n",
    "    except RuntimeError as e:\n",
    "        print(e)\n",
    "# Avoid warnings from TensorFlow\n",
    "tf.get_logger().setLevel('ERROR')\n",
    "\n",
    "tf.random.set_seed(1) # Set global random seed for reproducibility\n",
    "import matplotlib.pyplot as plt\n",
    "import numpy as np\n",
    "import sionna\n",
    "\n",
    "# Import Sionna RT components\n",
    "from mysionna.rt import load_scene, Transmitter, Receiver, PlanarArray\n",
    "from mysionna.rt.scattering_pattern import *"
   ]
  },
  {
   "cell_type": "code",
   "execution_count": 2,
   "metadata": {},
   "outputs": [
    {
     "name": "stderr",
     "output_type": "stream",
     "text": [
      "jit_optix_api_init(): libnvoptix.so.1 could not be loaded -- disabling OptiX backend! Set the DRJIT_LIBOPTIX_PATH environment variable to specify its path. One common explanation of this error message could be that you are using the Windows Subsystem for Linux (\"WSL\"). Note that rendering via the OptiX/CUDA backend is not currently supported on this platform, which is a limitation of OptiX itself. \n"
     ]
    },
    {
     "ename": "RuntimeError",
     "evalue": "​[xml.cpp:1079] Error while loading \"./scenes/Indoor/indoor.xml\" (near line 1, col 1): could not instantiate scene plugin of type \"scene\": Could not initialize OptiX!",
     "output_type": "error",
     "traceback": [
      "\u001b[0;31m---------------------------------------------------------------------------\u001b[0m",
      "\u001b[0;31mRuntimeError\u001b[0m                              Traceback (most recent call last)",
      "Cell \u001b[0;32mIn [2], line 1\u001b[0m\n\u001b[0;32m----> 1\u001b[0m scene \u001b[38;5;241m=\u001b[39m \u001b[43mload_scene\u001b[49m\u001b[43m(\u001b[49m\u001b[38;5;124;43m\"\u001b[39;49m\u001b[38;5;124;43m./scenes/Indoor/indoor.xml\u001b[39;49m\u001b[38;5;124;43m\"\u001b[39;49m\u001b[43m)\u001b[49m\n",
      "File \u001b[0;32m~/sionna/mysionna/rt/scene.py:2247\u001b[0m, in \u001b[0;36mload_scene\u001b[0;34m(filename, dtype)\u001b[0m\n\u001b[1;32m   2245\u001b[0m \u001b[38;5;28;01mif\u001b[39;00m filename \u001b[38;5;129;01mis\u001b[39;00m \u001b[38;5;28;01mNone\u001b[39;00m:\n\u001b[1;32m   2246\u001b[0m     filename \u001b[38;5;241m=\u001b[39m \u001b[38;5;124m\"\u001b[39m\u001b[38;5;124m__empty__\u001b[39m\u001b[38;5;124m\"\u001b[39m\n\u001b[0;32m-> 2247\u001b[0m \u001b[38;5;28;01mreturn\u001b[39;00m \u001b[43mScene\u001b[49m\u001b[43m(\u001b[49m\u001b[43mfilename\u001b[49m\u001b[43m,\u001b[49m\u001b[43m \u001b[49m\u001b[43mdtype\u001b[49m\u001b[38;5;241;43m=\u001b[39;49m\u001b[43mdtype\u001b[49m\u001b[43m)\u001b[49m\n",
      "File \u001b[0;32m~/sionna/mysionna/rt/scene.py:144\u001b[0m, in \u001b[0;36mScene.__init__\u001b[0;34m(self, env_filename, dtype)\u001b[0m\n\u001b[1;32m    139\u001b[0m     \u001b[38;5;28mself\u001b[39m\u001b[38;5;241m.\u001b[39m_scene \u001b[38;5;241m=\u001b[39m mi\u001b[38;5;241m.\u001b[39mload_dict({\u001b[38;5;124m\"\u001b[39m\u001b[38;5;124mtype\u001b[39m\u001b[38;5;124m\"\u001b[39m: \u001b[38;5;124m\"\u001b[39m\u001b[38;5;124mscene\u001b[39m\u001b[38;5;124m\"\u001b[39m,\n\u001b[1;32m    140\u001b[0m                                 \u001b[38;5;124m\"\u001b[39m\u001b[38;5;124mintegrator\u001b[39m\u001b[38;5;124m\"\u001b[39m: {\n\u001b[1;32m    141\u001b[0m                                     \u001b[38;5;124m\"\u001b[39m\u001b[38;5;124mtype\u001b[39m\u001b[38;5;124m\"\u001b[39m: \u001b[38;5;124m\"\u001b[39m\u001b[38;5;124mpath\u001b[39m\u001b[38;5;124m\"\u001b[39m,\n\u001b[1;32m    142\u001b[0m                                 }})\n\u001b[1;32m    143\u001b[0m \u001b[38;5;28;01melse\u001b[39;00m:\n\u001b[0;32m--> 144\u001b[0m     \u001b[38;5;28mself\u001b[39m\u001b[38;5;241m.\u001b[39m_scene \u001b[38;5;241m=\u001b[39m \u001b[43mmi\u001b[49m\u001b[38;5;241;43m.\u001b[39;49m\u001b[43mload_file\u001b[49m\u001b[43m(\u001b[49m\u001b[43menv_filename\u001b[49m\u001b[43m)\u001b[49m\n\u001b[1;32m    146\u001b[0m \u001b[38;5;66;03m# Instantiate the solver\u001b[39;00m\n\u001b[1;32m    147\u001b[0m \u001b[38;5;28mself\u001b[39m\u001b[38;5;241m.\u001b[39m_solver_paths \u001b[38;5;241m=\u001b[39m SolverPaths(\u001b[38;5;28mself\u001b[39m, dtype\u001b[38;5;241m=\u001b[39mdtype)\n",
      "\u001b[0;31mRuntimeError\u001b[0m: ​[xml.cpp:1079] Error while loading \"./scenes/Indoor/indoor.xml\" (near line 1, col 1): could not instantiate scene plugin of type \"scene\": Could not initialize OptiX!"
     ]
    }
   ],
   "source": [
    "scene = load_scene(\"./scenes/Indoor/indoor.xml\")\n",
    "# scene = load_scene(sionna.rt.scene.etoile)"
   ]
  },
  {
   "cell_type": "code",
   "execution_count": null,
   "metadata": {},
   "outputs": [],
   "source": [
    "scene.preview()"
   ]
  },
  {
   "cell_type": "code",
   "execution_count": 23,
   "metadata": {},
   "outputs": [],
   "source": [
    "#################配置发端天线阵列#################\n",
    "scene.tx_array = PlanarArray(num_rows=1,\n",
    "                             num_cols=1,\n",
    "                             vertical_spacing=0.5,\n",
    "                             horizontal_spacing=0.5,\n",
    "                             pattern=\"dipole\",\n",
    "                             polarization=\"V\")\n",
    "\n",
    "#################配置收端天线阵列#################\n",
    "scene.rx_array = PlanarArray(num_rows=1,\n",
    "                             num_cols=1,\n",
    "                             vertical_spacing=0.5,\n",
    "                             horizontal_spacing=0.5,\n",
    "                             pattern=\"dipole\",\n",
    "                             polarization=\"V\")"
   ]
  },
  {
   "cell_type": "code",
   "execution_count": 19,
   "metadata": {},
   "outputs": [],
   "source": [
    "################创建发射机#########################\n",
    "tx = Transmitter(name=\"tx\",\n",
    "                 position=[0,0,2.95])\n",
    "tx.look_at([1.9,3.2,1.0])\n",
    "################ 将发射机加入到场景中##############\n",
    "scene.add(tx)\n",
    "#################创建接收机########################\n",
    "rx = Receiver(name=\"rx\",\n",
    "              position=[0,0,2.95])\n",
    "rx.look_at([1.9,3.2,1.0])\n",
    "################ 将接收机加入到场景中##############\n",
    "scene.add(rx)\n"
   ]
  },
  {
   "cell_type": "code",
   "execution_count": 24,
   "metadata": {},
   "outputs": [],
   "source": [
    "scene.frequency = 2.14e9 # in Hz; implicitly updates RadioMaterials\n",
    "scene.synthetic_array = True # If set to False, ray tracing will be done per antenna element (slower for large arrays)"
   ]
  },
  {
   "cell_type": "code",
   "execution_count": 25,
   "metadata": {},
   "outputs": [],
   "source": [
    "scene.target_names = [\"table1\"]\n",
    "scene.target_velocities = [(0,0,0.0)]"
   ]
  },
  {
   "cell_type": "code",
   "execution_count": 26,
   "metadata": {},
   "outputs": [],
   "source": [
    "p1 = LambertianPattern()\n",
    "p2 = DirectivePattern(20)\n",
    "scene.get(\"itu_plywood\").scattering_coefficient = 0.4\n",
    "scene.get(\"itu_plywood\").scattering_pattern = p2\n",
    "scene.get(\"itu_concrete\").scattering_coefficient = 0.3\n",
    "scene.get(\"itu_concrete\").scattering_pattern = p1\n",
    "scene.get(\"itu_floorboard\").scattering_coefficient = 0.4\n",
    "scene.get(\"itu_floorboard\").scattering_pattern = p2\n",
    "scene.get(\"itu_ceiling_board\").scattering_coefficient = 0.4\n",
    "scene.get(\"itu_ceiling_board\").scattering_pattern = p2"
   ]
  },
  {
   "cell_type": "code",
   "execution_count": 27,
   "metadata": {},
   "outputs": [
    {
     "name": "stdout",
     "output_type": "stream",
     "text": [
      "Computing cells 0 to 1\n",
      "Computing cells 1 to 2\n",
      "Computing cells 2 to 3\n",
      "Computing cells 3 to 4\n",
      "Computing cells 4 to 5\n",
      "Computing cells 5 to 6\n",
      "Computing cells 6 to 7\n",
      "Computing cells 7 to 8\n",
      "Computing cells 8 to 9\n",
      "Computing cells 9 to 10\n",
      "Computing cells 10 to 11\n",
      "Computing cells 11 to 12\n",
      "Computing cells 12 to 13\n",
      "Computing cells 13 to 14\n",
      "Computing cells 14 to 15\n",
      "Computing cells 15 to 16\n",
      "Computing cells 16 to 17\n",
      "Computing cells 17 to 18\n",
      "Computing cells 18 to 19\n",
      "Computing cells 19 to 20\n",
      "Computing cells 20 to 21\n",
      "Computing cells 21 to 22\n",
      "Computing cells 22 to 23\n",
      "Computing cells 23 to 24\n",
      "Computing cells 24 to 25\n",
      "Computing cells 25 to 26\n",
      "Computing cells 26 to 27\n",
      "Computing cells 27 to 28\n",
      "Computing cells 28 to 29\n",
      "Computing cells 29 to 30\n",
      "Computing cells 30 to 31\n",
      "Computing cells 31 to 32\n",
      "Computing cells 32 to 33\n",
      "Computing cells 33 to 34\n",
      "Computing cells 34 to 35\n",
      "Computing cells 35 to 36\n",
      "Computing cells 36 to 37\n",
      "Computing cells 37 to 38\n",
      "Computing cells 38 to 39\n",
      "Computing cells 39 to 40\n",
      "Computing cells 40 to 41\n",
      "Computing cells 41 to 42\n",
      "Computing cells 42 to 43\n",
      "Computing cells 43 to 44\n",
      "Computing cells 44 to 45\n",
      "Computing cells 45 to 46\n",
      "Computing cells 46 to 47\n",
      "Computing cells 47 to 48\n",
      "Computing cells 48 to 49\n",
      "Computing cells 49 to 50\n",
      "Computing cells 50 to 51\n",
      "Computing cells 51 to 52\n",
      "Computing cells 52 to 53\n",
      "Computing cells 53 to 54\n",
      "Computing cells 54 to 55\n",
      "Computing cells 55 to 56\n",
      "Computing cells 56 to 57\n",
      "Computing cells 57 to 58\n",
      "Computing cells 58 to 59\n",
      "Computing cells 59 to 60\n",
      "Computing cells 60 to 61\n",
      "Computing cells 61 to 62\n",
      "Computing cells 62 to 63\n",
      "Computing cells 63 to 64\n",
      "Computing cells 64 to 65\n",
      "Computing cells 65 to 66\n",
      "Computing cells 66 to 67\n",
      "Computing cells 67 to 68\n",
      "Computing cells 68 to 69\n",
      "Computing cells 69 to 70\n",
      "Computing cells 70 to 71\n",
      "Computing cells 71 to 72\n",
      "Computing cells 72 to 73\n",
      "Computing cells 73 to 74\n",
      "Computing cells 74 to 75\n",
      "Computing cells 75 to 76\n",
      "Computing cells 76 to 77\n",
      "Computing cells 77 to 78\n",
      "Computing cells 78 to 79\n",
      "Computing cells 79 to 80\n",
      "Computing cells 80 to 81\n",
      "Computing cells 81 to 82\n",
      "Computing cells 82 to 83\n",
      "Computing cells 83 to 84\n",
      "Computing cells 84 to 85\n",
      "Computing cells 85 to 86\n",
      "Computing cells 86 to 87\n",
      "Computing cells 87 to 88\n",
      "Computing cells 88 to 89\n",
      "Computing cells 89 to 90\n",
      "Computing cells 90 to 91\n",
      "Computing cells 91 to 92\n",
      "Computing cells 92 to 93\n",
      "Computing cells 93 to 94\n",
      "Computing cells 94 to 95\n",
      "Computing cells 95 to 96\n",
      "Computing cells 96 to 97\n",
      "Computing cells 97 to 98\n",
      "Computing cells 98 to 99\n",
      "Computing cells 99 to 100\n",
      "Computing cells 100 to 101\n",
      "Computing cells 101 to 102\n",
      "Computing cells 102 to 103\n",
      "Computing cells 103 to 104\n",
      "Computing cells 104 to 105\n",
      "Computing cells 105 to 106\n",
      "Computing cells 106 to 107\n",
      "Computing cells 107 to 108\n",
      "Computing cells 108 to 109\n",
      "Computing cells 109 to 110\n",
      "Computing cells 110 to 111\n",
      "Computing cells 111 to 112\n",
      "Computing cells 112 to 113\n",
      "Computing cells 113 to 114\n",
      "Computing cells 114 to 115\n",
      "Computing cells 115 to 116\n",
      "Computing cells 116 to 117\n",
      "Computing cells 117 to 118\n",
      "Computing cells 118 to 119\n",
      "Computing cells 119 to 120\n",
      "Computing cells 120 to 121\n",
      "Computing cells 121 to 122\n",
      "Computing cells 122 to 123\n",
      "Computing cells 123 to 124\n",
      "Computing cells 124 to 125\n",
      "Computing cells 125 to 126\n",
      "Computing cells 126 to 127\n",
      "Computing cells 127 to 128\n",
      "Computing cells 128 to 129\n",
      "Computing cells 129 to 130\n",
      "Computing cells 130 to 131\n",
      "Computing cells 131 to 132\n",
      "Computing cells 132 to 133\n",
      "Computing cells 133 to 134\n",
      "Computing cells 134 to 135\n",
      "Computing cells 135 to 136\n",
      "Computing cells 136 to 137\n",
      "Computing cells 137 to 138\n",
      "Computing cells 138 to 139\n",
      "Computing cells 139 to 140\n",
      "Computing cells 140 to 141\n",
      "Computing cells 141 to 142\n",
      "Computing cells 142 to 143\n",
      "Computing cells 143 to 144\n",
      "Computing cells 144 to 145\n",
      "Computing cells 145 to 146\n",
      "Computing cells 146 to 147\n",
      "Computing cells 147 to 148\n",
      "Computing cells 148 to 149\n",
      "Computing cells 149 to 150\n",
      "Computing cells 150 to 151\n",
      "Computing cells 151 to 152\n",
      "Computing cells 152 to 153\n",
      "Computing cells 153 to 154\n",
      "Computing cells 154 to 155\n",
      "Computing cells 155 to 156\n",
      "Computing cells 156 to 157\n",
      "Computing cells 157 to 158\n",
      "Computing cells 158 to 159\n",
      "Computing cells 159 to 160\n",
      "Computing cells 160 to 161\n",
      "Computing cells 161 to 162\n",
      "Computing cells 162 to 163\n",
      "Computing cells 163 to 164\n",
      "Computing cells 164 to 165\n",
      "Computing cells 165 to 166\n",
      "Computing cells 166 to 167\n",
      "Computing cells 167 to 168\n",
      "Computing cells 168 to 169\n",
      "Computing cells 169 to 170\n",
      "Computing cells 170 to 171\n",
      "Computing cells 171 to 172\n",
      "Computing cells 172 to 173\n",
      "Computing cells 173 to 174\n",
      "Computing cells 174 to 175\n",
      "Computing cells 175 to 176\n",
      "Computing cells 176 to 177\n",
      "Computing cells 177 to 178\n",
      "Computing cells 178 to 179\n",
      "Computing cells 179 to 180\n",
      "Computing cells 180 to 181\n",
      "Computing cells 181 to 182\n",
      "Computing cells 182 to 183\n",
      "Computing cells 183 to 184\n",
      "Computing cells 184 to 185\n",
      "Computing cells 185 to 186\n",
      "Computing cells 186 to 187\n",
      "Computing cells 187 to 188\n",
      "Computing cells 188 to 189\n",
      "Computing cells 189 to 190\n",
      "Computing cells 190 to 191\n",
      "Computing cells 191 to 192\n",
      "Computing cells 192 to 193\n",
      "Computing cells 193 to 194\n",
      "Computing cells 194 to 195\n",
      "Computing cells 195 to 196\n",
      "Computing cells 196 to 197\n",
      "Computing cells 197 to 198\n",
      "Computing cells 198 to 199\n",
      "Computing cells 199 to 200\n",
      "Computing cells 200 to 201\n",
      "Computing cells 201 to 202\n",
      "Computing cells 202 to 203\n",
      "Computing cells 203 to 204\n",
      "Computing cells 204 to 205\n",
      "Computing cells 205 to 206\n",
      "Computing cells 206 to 207\n",
      "Computing cells 207 to 208\n",
      "Computing cells 208 to 209\n",
      "Computing cells 209 to 210\n",
      "Computing cells 210 to 211\n",
      "Computing cells 211 to 212\n",
      "Computing cells 212 to 213\n",
      "Computing cells 213 to 214\n",
      "Computing cells 214 to 215\n",
      "Computing cells 215 to 216\n",
      "Computing cells 216 to 217\n",
      "Computing cells 217 to 218\n",
      "Computing cells 218 to 219\n",
      "Computing cells 219 to 220\n",
      "Computing cells 220 to 221\n",
      "Computing cells 221 to 222\n",
      "Computing cells 222 to 223\n",
      "Computing cells 223 to 224\n",
      "Computing cells 224 to 225\n",
      "Computing cells 225 to 226\n",
      "Computing cells 226 to 227\n",
      "Computing cells 227 to 228\n",
      "Computing cells 228 to 229\n",
      "Computing cells 229 to 230\n",
      "Computing cells 230 to 231\n",
      "Computing cells 231 to 232\n",
      "Computing cells 232 to 233\n",
      "Computing cells 233 to 234\n",
      "Computing cells 234 to 235\n",
      "Computing cells 235 to 236\n",
      "Computing cells 236 to 237\n",
      "Computing cells 237 to 238\n",
      "Computing cells 238 to 239\n",
      "Computing cells 239 to 240\n",
      "Computing cells 240 to 241\n",
      "Computing cells 241 to 242\n",
      "Computing cells 242 to 243\n",
      "Computing cells 243 to 244\n",
      "Computing cells 244 to 245\n",
      "Computing cells 245 to 246\n",
      "Computing cells 246 to 247\n",
      "Computing cells 247 to 248\n",
      "Computing cells 248 to 249\n",
      "Computing cells 249 to 250\n",
      "Computing cells 250 to 251\n",
      "Computing cells 251 to 252\n",
      "Computing cells 252 to 253\n",
      "Computing cells 253 to 254\n",
      "Computing cells 254 to 255\n",
      "Computing cells 255 to 256\n",
      "Computing cells 256 to 257\n",
      "Computing cells 257 to 258\n",
      "Computing cells 258 to 259\n",
      "Computing cells 259 to 260\n",
      "Computing cells 260 to 261\n",
      "Computing cells 261 to 262\n",
      "Computing cells 262 to 263\n",
      "Computing cells 263 to 264\n",
      "Computing cells 264 to 265\n",
      "Computing cells 265 to 266\n",
      "Computing cells 266 to 267\n",
      "Computing cells 267 to 268\n",
      "Computing cells 268 to 269\n",
      "Computing cells 269 to 270\n",
      "Computing cells 270 to 271\n",
      "Computing cells 271 to 272\n",
      "Computing cells 272 to 273\n"
     ]
    }
   ],
   "source": [
    "crbs = scene.coverage_map_sensing(map_center=[0,0,2.95],\n",
    "                                  map_size_x=6,\n",
    "                                  map_size_y=10,\n",
    "                                  cell_size=0.5,\n",
    "                                  look_at=[0,0,0],\n",
    "                                  batch_size=1,\n",
    "                                  singleBS=True,\n",
    "                                  num_samples=1000000,\n",
    "                                  max_depth=3,\n",
    "                                  diffraction=True,\n",
    "                                  edge_diffraction=True,\n",
    "                                  num_time_steps=1)"
   ]
  },
  {
   "cell_type": "code",
   "execution_count": 28,
   "metadata": {},
   "outputs": [
    {
     "name": "stderr",
     "output_type": "stream",
     "text": [
      "/tmp/ipykernel_71478/3387307165.py:14: RuntimeWarning: divide by zero encountered in log10\n",
      "  crb = np.log10(crb)\n"
     ]
    },
    {
     "data": {
      "text/plain": [
       "<matplotlib.colorbar.Colorbar at 0x7f9ec1b3d400>"
      ]
     },
     "execution_count": 28,
     "metadata": {},
     "output_type": "execute_result"
    },
    {
     "data": {
      "image/png": "[encoded data removed]",
      "text/plain": [
       "<Figure size 640x480 with 2 Axes>"
      ]
     },
     "metadata": {},
     "output_type": "display_data"
    }
   ],
   "source": [
    "crb = None\n",
    "for i in range(0,len(crbs)):\n",
    "    c = crbs[i][0]\n",
    "    c = tf.squeeze(c)\n",
    "    # c = tf.linalg.diag_part(c)\n",
    "    c = c.numpy()\n",
    "    if crb is None:\n",
    "        crb = c\n",
    "    else:\n",
    "        crb = np.concatenate((crb,c),axis=None)\n",
    "crb = np.array(crb)\n",
    "crb = np.reshape(crb,[-1,21])\n",
    "np.save(\"./Data/indoor/table1/crb.npy\",crb)\n",
    "crb = np.log10(crb)\n",
    "plt.imshow(crb)\n",
    "plt.colorbar()\n"
   ]
  },
  {
   "cell_type": "code",
   "execution_count": 8,
   "metadata": {},
   "outputs": [],
   "source": [
    "paths = scene.compute_paths(max_depth=3,diffraction=True,scattering=True,edge_diffraction=True)"
   ]
  },
  {
   "cell_type": "code",
   "execution_count": 11,
   "metadata": {},
   "outputs": [],
   "source": [
    "# scene.preview(paths=paths)"
   ]
  },
  {
   "cell_type": "code",
   "execution_count": 9,
   "metadata": {},
   "outputs": [],
   "source": [
    "v,obj=scene.compute_target_velocities(paths, return_obj_names=True)"
   ]
  },
  {
   "cell_type": "code",
   "execution_count": 10,
   "metadata": {},
   "outputs": [],
   "source": [
    "subcarrier_spacing = 15e3\n",
    "num_time_steps = 1\n",
    "paths.apply_doppler(sampling_frequency=subcarrier_spacing, num_time_steps=num_time_steps,target_velocities=v)"
   ]
  },
  {
   "cell_type": "code",
   "execution_count": 11,
   "metadata": {},
   "outputs": [],
   "source": [
    "crb = paths.crb_delay()"
   ]
  },
  {
   "cell_type": "code",
   "execution_count": 12,
   "metadata": {},
   "outputs": [
    {
     "data": {
      "text/plain": [
       "True"
      ]
     },
     "execution_count": 12,
     "metadata": {},
     "output_type": "execute_result"
    }
   ],
   "source": [
    "paths.export_crb(crb,\"test.xyzrgb\",BS_pos = [0,0,2.95])"
   ]
  },
  {
   "cell_type": "code",
   "execution_count": 23,
   "metadata": {},
   "outputs": [
    {
     "name": "stderr",
     "output_type": "stream",
     "text": [
      "/tmp/ipykernel_18672/437392773.py:12: RuntimeWarning: divide by zero encountered in log10\n",
      "  crb = np.log10(crb)\n",
      "/tmp/ipykernel_18672/437392773.py:32: RuntimeWarning: divide by zero encountered in log10\n",
      "  mse = np.log10(mse)\n"
     ]
    },
    {
     "data": {
      "image/png": "[encoded data removed]",
      "text/plain": [
       "<Figure size 1000x500 with 4 Axes>"
      ]
     },
     "metadata": {},
     "output_type": "display_data"
    }
   ],
   "source": [
    "scene_name = \"indoor\"\n",
    "target = \"table1\"\n",
    "\n",
    "with open(f\"./Data/{scene_name}/{target}/1000000_6_10_0.5_tau_true.txt\",\"r\") as f:\n",
    "    tau_true = f.readlines()\n",
    "    tau_true = np.array([float(i) for i in tau_true])\n",
    "with open(f\"./Data/{scene_name}/{target}/1000000_6_10_0.5_tau_est.txt\",\"r\") as f:\n",
    "    tau_est = f.readlines()\n",
    "    tau_est = np.array([float(i) for i in tau_est])\n",
    "crb = np.load(f\"./Data/{scene_name}/{target}/crb.npy\")\n",
    "crb = crb*3e8\n",
    "crb = np.log10(crb)\n",
    "crb = np.reshape(crb,(-1,21))\n",
    "\n",
    "pad = 0\n",
    "\n",
    "mse = np.abs(tau_true-tau_est)\n",
    "mse = np.reshape(mse,(-1,21))\n",
    "tau_true = np.reshape(tau_true,(-1,21))\n",
    "tau_est = np.reshape(tau_est,(-1,21))\n",
    "mask = mse >= 1\n",
    "mse[mask] = pad\n",
    "mask = tau_est==0\n",
    "mse[mask] = pad\n",
    "mask = tau_true==999999 \n",
    "mse[mask] = pad\n",
    "mask = tau_true==0\n",
    "mse[mask] = pad\n",
    "mask = tau_true==-1\n",
    "mse[mask] = pad\n",
    "mse = mse*3e8\n",
    "mse = np.log10(mse)\n",
    "# set figure size\n",
    "plt.figure(figsize=(10, 5))\n",
    "plt.subplots_adjust(wspace=0.5)\n",
    "plt.subplot(121)\n",
    "plt.title(\"Indoor Sensing MSE\")\n",
    "plt.xlabel(\"x axis(0.5m)\")\n",
    "plt.ylabel(\"y axis(0.5m)\")\n",
    "plt.imshow(mse)\n",
    "# set colorbar size\n",
    "plt.colorbar(fraction=0.046, pad=0.04)\n",
    "plt.subplot(122)\n",
    "plt.title(\"Indoor Sensing CRB\")\n",
    "plt.xlabel(\"x axis(0.5m)\")\n",
    "plt.ylabel(\"y axis(0.5m)\")\n",
    "plt.imshow(crb)\n",
    "plt.colorbar(fraction=0.046, pad=0.04)\n",
    "plt.savefig(f\"./Data/{scene_name}/{target}/out.png\")"
   ]
  },
  {
   "cell_type": "code",
   "execution_count": 6,
   "metadata": {},
   "outputs": [
    {
     "data": {
      "text/plain": [
       "227"
      ]
     },
     "execution_count": 6,
     "metadata": {},
     "output_type": "execute_result"
    }
   ],
   "source": [
    "np.argmin(mse)"
   ]
  }
 ],
 "metadata": {
  "kernelspec": {
   "display_name": "Python 3 (ipykernel)",
   "language": "python",
   "name": "python3"
  },
  "language_info": {
   "codemirror_mode": {
    "name": "ipython",
    "version": 3
   },
   "file_extension": ".py",
   "mimetype": "text/x-python",
   "name": "python",
   "nbconvert_exporter": "python",
   "pygments_lexer": "ipython3",
   "version": "3.8.10"
  }
 },
 "nbformat": 4,
 "nbformat_minor": 4
}
