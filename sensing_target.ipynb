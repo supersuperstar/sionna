{
 "cells": [
  {
   "cell_type": "code",
   "execution_count": 1,
   "metadata": {},
   "outputs": [
    {
     "name": "stdout",
     "output_type": "stream",
     "text": [
      "Jupyter environment detected. Enabling Open3D WebVisualizer.\n",
      "[Open3D INFO] WebRTC GUI backend enabled.\n",
      "[Open3D INFO] WebRTCWindowSystem: HTTP handshake server disabled.\n"
     ]
    }
   ],
   "source": [
    "import os\n",
    "gpu_num = 0 # 使用 \"\" 来启用 CPU\n",
    "os.environ[\"CUDA_VISIBLE_DEVICES\"] = f\"{gpu_num}\"\n",
    "os.environ['TF_CPP_MIN_LOG_LEVEL'] = '3'\n",
    "\n",
    "import tensorflow as tf\n",
    "gpus = tf.config.list_physical_devices('GPU')\n",
    "if gpus:\n",
    "    try:\n",
    "        tf.config.experimental.set_memory_growth(gpus[0], True)\n",
    "    except RuntimeError as e:\n",
    "        print(e)\n",
    "# Avoid warnings from TensorFlow\n",
    "tf.get_logger().setLevel('ERROR')\n",
    "\n",
    "tf.random.set_seed(1) # Set global random seed for reproducibility\n",
    "import matplotlib.pyplot as plt\n",
    "import numpy as np\n",
    "import sionna\n",
    "\n",
    "# Import Sionna RT components\n",
    "from mysionna.rt import load_scene, Transmitter, Receiver, PlanarArray\n",
    "from mysionna.rt.scattering_pattern import *"
   ]
  },
  {
   "cell_type": "code",
   "execution_count": 2,
   "metadata": {},
   "outputs": [],
   "source": [
    "scene = load_scene(\"Indoor/indoor.xml\")\n",
    "# scene = load_scene(sionna.rt.scene.etoile)"
   ]
  },
  {
   "cell_type": "code",
   "execution_count": 3,
   "metadata": {},
   "outputs": [],
   "source": [
    "#################配置发端天线阵列#################\n",
    "scene.tx_array = PlanarArray(num_rows=1,\n",
    "                             num_cols=1,\n",
    "                             vertical_spacing=0.5,\n",
    "                             horizontal_spacing=0.5,\n",
    "                             pattern=\"dipole\",\n",
    "                             polarization=\"V\")\n",
    "\n",
    "#################配置收端天线阵列#################\n",
    "scene.rx_array = PlanarArray(num_rows=1,\n",
    "                             num_cols=1,\n",
    "                             vertical_spacing=0.5,\n",
    "                             horizontal_spacing=0.5,\n",
    "                             pattern=\"dipole\",\n",
    "                             polarization=\"V\")"
   ]
  },
  {
   "cell_type": "code",
   "execution_count": 4,
   "metadata": {},
   "outputs": [],
   "source": [
    "# ################创建发射机#########################\n",
    "# tx = Transmitter(name=\"tx\",\n",
    "#                  position=[0,-4.95,2.95])\n",
    "# ################ 将发射机加入到场景中##############\n",
    "# scene.add(tx)\n",
    "# #################创建接收机########################\n",
    "# rx = Receiver(name=\"rx\",\n",
    "#               position=[0,-4.95,2.95])\n",
    "# ################ 将接收机加入到场景中##############\n",
    "# scene.add(rx)\n",
    "# tx.look_at([0,0,0])\n",
    "# rx.look_at([0,0,0])"
   ]
  },
  {
   "cell_type": "code",
   "execution_count": 5,
   "metadata": {},
   "outputs": [],
   "source": [
    "scene.frequency = 2.14e9 # in Hz; implicitly updates RadioMaterials\n",
    "scene.synthetic_array = True # If set to False, ray tracing will be done per antenna element (slower for large arrays)"
   ]
  },
  {
   "cell_type": "code",
   "execution_count": 6,
   "metadata": {},
   "outputs": [],
   "source": [
    "scene.target_names = [\"human\"]\n",
    "scene.target_velocities = [(-1.2,-0.4,0.)]"
   ]
  },
  {
   "cell_type": "code",
   "execution_count": 7,
   "metadata": {},
   "outputs": [],
   "source": [
    "p1 = LambertianPattern()\n",
    "p2 = DirectivePattern(20)\n",
    "scene.get(\"itu_plywood\").scattering_coefficient = 0.4\n",
    "scene.get(\"itu_plywood\").scattering_pattern = p2\n",
    "scene.get(\"itu_concrete\").scattering_coefficient = 0.3\n",
    "scene.get(\"itu_concrete\").scattering_pattern = p1\n",
    "scene.get(\"itu_floorboard\").scattering_coefficient = 0.4\n",
    "scene.get(\"itu_floorboard\").scattering_pattern = p2\n",
    "scene.get(\"itu_ceiling_board\").scattering_coefficient = 0.4\n",
    "scene.get(\"itu_ceiling_board\").scattering_pattern = p2\n",
    "scene.get(\"itu_metal\").scattering_coefficient = 0.7\n",
    "scene.get(\"itu_metal\").scattering_pattern = p1"
   ]
  },
  {
   "cell_type": "code",
   "execution_count": 8,
   "metadata": {},
   "outputs": [
    {
     "data": {
      "application/vnd.jupyter.widget-view+json": {
       "model_id": "b6ffdb8f59dc4a62ab4b8a700b8187b4",
       "version_major": 2,
       "version_minor": 0
      },
      "text/html": [
       "\n",
       "\n",
       "<!-- Load require.js. Delete this if your page already loads require.js -->\n",
       "<script src=\"https://cdnjs.cloudflare.com/ajax/libs/require.js/2.3.4/require.min.js\" integrity=\"sha256-Ae2Vz/4ePdIu6ZyI/5ZGsYnb+m0JlOmKPjt6XZ9JJkA=\" crossorigin=\"anonymous\"></script>\n",
       "<script src=\"https://cdn.jsdelivr.net/npm/@jupyter-widgets/html-manager@^1.0.1/dist/embed-amd.js\" crossorigin=\"anonymous\"></script>\n",
       "\n",
       "<script type=\"application/vnd.jupyter.widget-state+json\">\n",
       "{\n",
       "  \"version_major\": 2,\n",
       "  \"version_minor\": 0,\n",
       "  \"state\": {\n",
       "    \"c23ffdfcfbfd4a7ebda735a70d7afbce\": {\n",
       "      \"model_name\": \"AmbientLightModel\",\n",
       "      \"model_module\": \"jupyter-threejs\",\n",
       "      \"model_module_version\": \"^2.4.1\",\n",
       "      \"state\": {\n",
       "        \"children\": [],\n",
       "        \"intensity\": 0.8\n",
       "      }\n",
       "    },\n",
       "    \"6f7643e002a940f796c184b7eb602419\": {\n",
       "      \"model_name\": \"DirectionalLightModel\",\n",
       "      \"model_module\": \"jupyter-threejs\",\n",
       "      \"model_module_version\": \"^2.4.1\",\n",
       "      \"state\": {\n",
       "        \"children\": [],\n",
       "        \"intensity\": 0.25,\n",
       "        \"shadow\": \"uninitialized\",\n",
       "        \"target\": \"uninitialized\"\n",
       "      }\n",
       "    },\n",
       "    \"f56e774739a04577b6eb23376e2aee5d\": {\n",
       "      \"model_name\": \"PerspectiveCameraModel\",\n",
       "      \"model_module\": \"jupyter-threejs\",\n",
       "      \"model_module_version\": \"^2.4.1\",\n",
       "      \"state\": {\n",
       "        \"aspect\": 1.31,\n",
       "        \"children\": [\n",
       "          \"IPY_MODEL_6f7643e002a940f796c184b7eb602419\"\n",
       "        ],\n",
       "        \"far\": 10000.0,\n",
       "        \"fov\": 45.0,\n",
       "        \"position\": [\n",
       "          -3.0,\n",
       "          0.0,\n",
       "          5.25\n",
       "        ],\n",
       "        \"up\": [\n",
       "          0.0,\n",
       "          0.0,\n",
       "          1.0\n",
       "        ]\n",
       "      }\n",
       "    },\n",
       "    \"f30cf8c41b884bba859af2e7f22f727a\": {\n",
       "      \"model_name\": \"OrbitControlsModel\",\n",
       "      \"model_module\": \"jupyter-threejs\",\n",
       "      \"model_module_version\": \"^2.4.1\",\n",
       "      \"state\": {\n",
       "        \"controlling\": \"IPY_MODEL_f56e774739a04577b6eb23376e2aee5d\",\n",
       "        \"maxAzimuthAngle\": \"inf\",\n",
       "        \"maxDistance\": \"inf\",\n",
       "        \"maxZoom\": \"inf\",\n",
       "        \"minAzimuthAngle\": \"-inf\"\n",
       "      }\n",
       "    },\n",
       "    \"f2e2b7a20a6f4ebb9c751273f496d5e2\": {\n",
       "      \"model_name\": \"SceneModel\",\n",
       "      \"model_module\": \"jupyter-threejs\",\n",
       "      \"model_module_version\": \"^2.4.1\",\n",
       "      \"state\": {\n",
       "        \"children\": [\n",
       "          \"IPY_MODEL_f56e774739a04577b6eb23376e2aee5d\",\n",
       "          \"IPY_MODEL_c23ffdfcfbfd4a7ebda735a70d7afbce\",\n",
       "          \"IPY_MODEL_673b0501fc594419b3c6273980b43433\"\n",
       "        ],\n",
       "        \"fog\": null,\n",
       "        \"overrideMaterial\": null\n",
       "      }\n",
       "    },\n",
       "    \"162eead87ffc4dd982c57bffa00559a0\": {\n",
       "      \"model_name\": \"LayoutModel\",\n",
       "      \"model_module\": \"@jupyter-widgets/base\",\n",
       "      \"model_module_version\": \"2.0.0\",\n",
       "      \"state\": {}\n",
       "    },\n",
       "    \"c56965134f0b4d6ab0757b33de1fa378\": {\n",
       "      \"model_name\": \"WebGLShadowMapModel\",\n",
       "      \"model_module\": \"jupyter-threejs\",\n",
       "      \"model_module_version\": \"^2.4.1\",\n",
       "      \"state\": {}\n",
       "    },\n",
       "    \"b6ffdb8f59dc4a62ab4b8a700b8187b4\": {\n",
       "      \"model_name\": \"RendererModel\",\n",
       "      \"model_module\": \"jupyter-threejs\",\n",
       "      \"model_module_version\": \"^2.4.1\",\n",
       "      \"state\": {\n",
       "        \"_antialias\": true,\n",
       "        \"_dom_classes\": [],\n",
       "        \"_height\": 500,\n",
       "        \"_width\": 655,\n",
       "        \"camera\": \"IPY_MODEL_f56e774739a04577b6eb23376e2aee5d\",\n",
       "        \"clippingPlanes\": [],\n",
       "        \"controls\": [\n",
       "          \"IPY_MODEL_f30cf8c41b884bba859af2e7f22f727a\"\n",
       "        ],\n",
       "        \"layout\": \"IPY_MODEL_162eead87ffc4dd982c57bffa00559a0\",\n",
       "        \"scene\": \"IPY_MODEL_f2e2b7a20a6f4ebb9c751273f496d5e2\",\n",
       "        \"shadowMap\": \"IPY_MODEL_c56965134f0b4d6ab0757b33de1fa378\"\n",
       "      }\n",
       "    },\n",
       "    \"599d72507bf74eec8735c97e94e93951\": {\n",
       "      \"model_name\": \"BufferAttributeModel\",\n",
       "      \"model_module\": \"jupyter-threejs\",\n",
       "      \"model_module_version\": \"^2.4.1\",\n",
       "      \"state\": {\n",
       "        \"array\": {\n",
       "          \"shape\": [\n",
       "            624\n",
       "          ],\n",
       "          \"dtype\": \"uint32\"\n",
       "        }\n",
       "      },\n",
       "      \"buffers\": [\n",
       "        {\n",
       "          \"encoding\": \"base64\",\n",
       "          \"path\": [\n",
       "            \"array\",\n",
       "            \"buffer\"\n",
       "          ],\n",
       "          \"data\": \"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\"\n",
       "        }\n",
       "      ]\n",
       "    },\n",
       "    \"b53b898c86a0406bb4aacf1d78800fd3\": {\n",
       "      \"model_name\": \"BufferAttributeModel\",\n",
       "      \"model_module\": \"jupyter-threejs\",\n",
       "      \"model_module_version\": \"^2.4.1\",\n",
       "      \"state\": {\n",
       "        \"array\": {\n",
       "          \"shape\": [\n",
       "            238,\n",
       "            3\n",
       "          ],\n",
       "          \"dtype\": \"float32\"\n",
       "        }\n",
       "      },\n",
       "      \"buffers\": [\n",
       "        {\n",
       "          \"encoding\": \"base64\",\n",
       "          \"path\": [\n",
       "            \"array\",\n",
       "            \"buffer\"\n",
       "          ],\n",
       "          \"data\": \"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\"\n",
       "        }\n",
       "      ]\n",
       "    },\n",
       "    \"343ea2e5ea594935903ff65fcc728285\": {\n",
       "      \"model_name\": \"BufferAttributeModel\",\n",
       "      \"model_module\": \"jupyter-threejs\",\n",
       "      \"model_module_version\": \"^2.4.1\",\n",
       "      \"state\": {\n",
       "        \"array\": {\n",
       "          \"shape\": [\n",
       "            238,\n",
       "            3\n",
       "          ],\n",
       "          \"dtype\": \"float32\"\n",
       "        }\n",
       "      },\n",
       "      \"buffers\": [\n",
       "        {\n",
       "          \"encoding\": \"base64\",\n",
       "          \"path\": [\n",
       "            \"array\",\n",
       "            \"buffer\"\n",
       "          ],\n",
       "          \"data\": \"/yZiP/8mYj//JmI//yZiP/8mYj//JmI//yZiP/8mYj//JmI//yZiP/8mYj//JmI/lL9APx8lAz8fJQM/lL9APx8lAz8fJQM/lL9APx8lAz8fJQM/lL9APx8lAz8fJQM/lL9APx8lAz8fJQM/lL9APx8lAz8fJQM/lL9APx8lAz8fJQM/lL9APx8lAz8fJQM/lL9APx8lAz8fJQM/lL9APx8lAz8fJQM/lL9APx8lAz8fJQM/lL9APx8lAz8fJQM/lL9APx8lAz8fJQM/lL9APx8lAz8fJQM//yZiP/8mYj//JmI//yZiP/8mYj//JmI//yZiP/8mYj//JmI//yZiP/8mYj//JmI/d98ZP4Nj0T4fJQM/d98ZP4Nj0T4fJQM/d98ZP4Nj0T4fJQM/d98ZP4Nj0T4fJQM/d98ZP4Nj0T4fJQM/d98ZP4Nj0T4fJQM/d98ZP4Nj0T4fJQM/d98ZP4Nj0T4fJQM/d98ZP4Nj0T4fJQM/d98ZP4Nj0T4fJQM/d98ZP4Nj0T4fJQM/d98ZP4Nj0T4fJQM/d98ZP4Nj0T4fJQM/d98ZP4Nj0T4fJQM/d98ZP4Nj0T4fJQM/d98ZP4Nj0T4fJQM/d98ZP4Nj0T4fJQM/d98ZP4Nj0T4fJQM/d98ZP4Nj0T4fJQM/d98ZP4Nj0T4fJQM/d98ZP4Nj0T4fJQM/d98ZP4Nj0T4fJQM/d98ZP4Nj0T4fJQM/d98ZP4Nj0T4fJQM/d98ZP4Nj0T4fJQM/d98ZP4Nj0T4fJQM/d98ZP4Nj0T4fJQM/d98ZP4Nj0T4fJQM/d98ZP4Nj0T4fJQM/d98ZP4Nj0T4fJQM/d98ZP4Nj0T4fJQM/d98ZP4Nj0T4fJQM/d98ZP4Nj0T4fJQM/d98ZP4Nj0T4fJQM/d98ZP4Nj0T4fJQM/d98ZP4Nj0T4fJQM/d98ZP4Nj0T4fJQM/d98ZP4Nj0T4fJQM/d98ZP4Nj0T4fJQM/d98ZP4Nj0T4fJQM/d98ZP4Nj0T4fJQM/d98ZP4Nj0T4fJQM/d98ZP4Nj0T4fJQM/d98ZP4Nj0T4fJQM/d98ZP4Nj0T4fJQM/d98ZP4Nj0T4fJQM/d98ZP4Nj0T4fJQM/d98ZP4Nj0T4fJQM/d98ZP4Nj0T4fJQM/d98ZP4Nj0T4fJQM/d98ZP4Nj0T4fJQM/d98ZP4Nj0T4fJQM/d98ZP4Nj0T4fJQM/d98ZP4Nj0T4fJQM/d98ZP4Nj0T4fJQM/d98ZP4Nj0T4fJQM/d98ZP4Nj0T4fJQM/d98ZP4Nj0T4fJQM/d98ZP4Nj0T4fJQM/d98ZP4Nj0T4fJQM/d98ZP4Nj0T4fJQM/d98ZP4Nj0T4fJQM/d98ZP4Nj0T4fJQM/d98ZP4Nj0T4fJQM/d98ZP4Nj0T4fJQM/d98ZP4Nj0T4fJQM/d98ZP4Nj0T4fJQM/d98ZP4Nj0T4fJQM/d98ZP4Nj0T4fJQM/d98ZP4Nj0T4fJQM/d98ZP4Nj0T4fJQM/d98ZP4Nj0T4fJQM/d98ZP4Nj0T4fJQM/d98ZP4Nj0T4fJQM/d98ZP4Nj0T4fJQM/d98ZP4Nj0T4fJQM/d98ZP4Nj0T4fJQM/d98ZP4Nj0T4fJQM/d98ZP4Nj0T4fJQM/d98ZP4Nj0T4fJQM/d98ZP4Nj0T4fJQM/d98ZP4Nj0T4fJQM/d98ZP4Nj0T4fJQM/d98ZP4Nj0T4fJQM/d98ZP4Nj0T4fJQM/d98ZP4Nj0T4fJQM/d98ZP4Nj0T4fJQM/d98ZP4Nj0T4fJQM/d98ZP4Nj0T4fJQM/d98ZP4Nj0T4fJQM/d98ZP4Nj0T4fJQM/d98ZP4Nj0T4fJQM/d98ZP4Nj0T4fJQM/d98ZP4Nj0T4fJQM/d98ZP4Nj0T4fJQM/d98ZP4Nj0T4fJQM/d98ZP4Nj0T4fJQM/d98ZP4Nj0T4fJQM/d98ZP4Nj0T4fJQM/d98ZP4Nj0T4fJQM/d98ZP4Nj0T4fJQM/d98ZP4Nj0T4fJQM/d98ZP4Nj0T4fJQM/d98ZP4Nj0T4fJQM/d98ZP4Nj0T4fJQM/d98ZP4Nj0T4fJQM/d98ZP4Nj0T4fJQM/d98ZP4Nj0T4fJQM/d98ZP4Nj0T4fJQM/d98ZP4Nj0T4fJQM/d98ZP4Nj0T4fJQM/d98ZP4Nj0T4fJQM/d98ZP4Nj0T4fJQM/d98ZP4Nj0T4fJQM/d98ZP4Nj0T4fJQM/d98ZP4Nj0T4fJQM/d98ZP4Nj0T4fJQM/d98ZP4Nj0T4fJQM/d98ZP4Nj0T4fJQM/d98ZP4Nj0T4fJQM/d98ZP4Nj0T4fJQM/d98ZP4Nj0T4fJQM/d98ZP4Nj0T4fJQM/d98ZP4Nj0T4fJQM/d98ZP4Nj0T4fJQM/d98ZP4Nj0T4fJQM/d98ZP4Nj0T4fJQM/d98ZP4Nj0T4fJQM/d98ZP4Nj0T4fJQM/d98ZP4Nj0T4fJQM/lL9APx8lAz8fJQM/lL9APx8lAz8fJQM/lL9APx8lAz8fJQM/lL9APx8lAz8fJQM/lL9APx8lAz8fJQM/lL9APx8lAz8fJQM/lL9APx8lAz8fJQM/lL9APx8lAz8fJQM/lL9APx8lAz8fJQM/lL9APx8lAz8fJQM/lL9APx8lAz8fJQM/lL9APx8lAz8fJQM/lL9APx8lAz8fJQM/lL9APx8lAz8fJQM/lL9APx8lAz8fJQM/lL9APx8lAz8fJQM/lL9APx8lAz8fJQM/lL9APx8lAz8fJQM/lL9APx8lAz8fJQM/lL9APx8lAz8fJQM/lL9APx8lAz8fJQM/lL9APx8lAz8fJQM/lL9APx8lAz8fJQM/lL9APx8lAz8fJQM/lL9APx8lAz8fJQM/lL9APx8lAz8fJQM/lL9APx8lAz8fJQM/lL9APx8lAz8fJQM/lL9APx8lAz8fJQM/lL9APx8lAz8fJQM/lL9APx8lAz8fJQM/lL9APx8lAz8fJQM/lL9APx8lAz8fJQM/lL9APx8lAz8fJQM/lL9APx8lAz8fJQM/lL9APx8lAz8fJQM/lL9APx8lAz8fJQM/lL9APx8lAz8fJQM/lL9APx8lAz8fJQM/lL9APx8lAz8fJQM/lL9APx8lAz8fJQM/lL9APx8lAz8fJQM/lL9APx8lAz8fJQM/lL9APx8lAz8fJQM/lL9APx8lAz8fJQM/lL9APx8lAz8fJQM/lL9APx8lAz8fJQM/lL9APx8lAz8fJQM/lL9APx8lAz8fJQM/lL9APx8lAz8fJQM/lL9APx8lAz8fJQM/lL9APx8lAz8fJQM/lL9APx8lAz8fJQM/lL9APx8lAz8fJQM/lL9APx8lAz8fJQM/lL9APx8lAz8fJQM/lL9APx8lAz8fJQM/lL9APx8lAz8fJQM/lL9APx8lAz8fJQM/lL9APx8lAz8fJQM/lL9APx8lAz8fJQM/lL9APx8lAz8fJQM/lL9APx8lAz8fJQM/lL9APx8lAz8fJQM/lL9APx8lAz8fJQM/lL9APx8lAz8fJQM/lL9APx8lAz8fJQM/lL9APx8lAz8fJQM/lL9APx8lAz8fJQM/lL9APx8lAz8fJQM//yZiP/8mYj//JmI//yZiP/8mYj//JmI//yZiP/8mYj//JmI//yZiP/8mYj//JmI//yZiP/8mYj//JmI//yZiP/8mYj//JmI//yZiP/8mYj//JmI//yZiP/8mYj//JmI//yZiP/8mYj//JmI//yZiP/8mYj//JmI//yZiP/8mYj//JmI//yZiP/8mYj//JmI//yZiP/8mYj//JmI//yZiP/8mYj//JmI//yZiP/8mYj//JmI//yZiP/8mYj//JmI/\"\n",
       "        }\n",
       "      ]\n",
       "    },\n",
       "    \"3f8637084f484b55ad9a9e78bfca101f\": {\n",
       "      \"model_name\": \"BufferGeometryModel\",\n",
       "      \"model_module\": \"jupyter-threejs\",\n",
       "      \"model_module_version\": \"^2.4.1\",\n",
       "      \"state\": {\n",
       "        \"_ref_geometry\": null,\n",
       "        \"attributes\": {\n",
       "          \"index\": \"IPY_MODEL_599d72507bf74eec8735c97e94e93951\",\n",
       "          \"position\": \"IPY_MODEL_b53b898c86a0406bb4aacf1d78800fd3\",\n",
       "          \"color\": \"IPY_MODEL_343ea2e5ea594935903ff65fcc728285\"\n",
       "        },\n",
       "        \"index\": null,\n",
       "        \"morphAttributes\": {},\n",
       "        \"userData\": {}\n",
       "      }\n",
       "    },\n",
       "    \"ec44a8f42a114349af2b9843bafae6b7\": {\n",
       "      \"model_name\": \"MeshStandardMaterialModel\",\n",
       "      \"model_module\": \"jupyter-threejs\",\n",
       "      \"model_module_version\": \"^2.4.1\",\n",
       "      \"state\": {\n",
       "        \"alphaMap\": null,\n",
       "        \"aoMap\": null,\n",
       "        \"bumpMap\": null,\n",
       "        \"clippingPlanes\": [],\n",
       "        \"defines\": {\n",
       "          \"STANDARD\": \"\"\n",
       "        },\n",
       "        \"displacementMap\": null,\n",
       "        \"emissiveMap\": null,\n",
       "        \"envMap\": null,\n",
       "        \"flatShading\": true,\n",
       "        \"lightMap\": null,\n",
       "        \"map\": null,\n",
       "        \"metalness\": 0.0,\n",
       "        \"metalnessMap\": null,\n",
       "        \"normalMap\": null,\n",
       "        \"roughness\": 1.0,\n",
       "        \"roughnessMap\": null,\n",
       "        \"side\": \"DoubleSide\",\n",
       "        \"vertexColors\": \"VertexColors\"\n",
       "      }\n",
       "    },\n",
       "    \"673b0501fc594419b3c6273980b43433\": {\n",
       "      \"model_name\": \"MeshModel\",\n",
       "      \"model_module\": \"jupyter-threejs\",\n",
       "      \"model_module_version\": \"^2.4.1\",\n",
       "      \"state\": {\n",
       "        \"children\": [],\n",
       "        \"geometry\": \"IPY_MODEL_3f8637084f484b55ad9a9e78bfca101f\",\n",
       "        \"material\": \"IPY_MODEL_ec44a8f42a114349af2b9843bafae6b7\",\n",
       "        \"morphTargetInfluences\": []\n",
       "      }\n",
       "    }\n",
       "  }\n",
       "}\n",
       "</script>\n",
       "<script type=\"application/vnd.jupyter.widget-view+json\">\n",
       "{\"version_major\": 2, \"version_minor\": 0, \"model_id\": \"b6ffdb8f59dc4a62ab4b8a700b8187b4\"}\n",
       "</script>\n"
      ],
      "text/plain": [
       "Renderer(camera=PerspectiveCamera(aspect=1.31, children=(DirectionalLight(intensity=0.25, position=(0.0, 0.0, …"
      ]
     },
     "execution_count": 8,
     "metadata": {},
     "output_type": "execute_result"
    }
   ],
   "source": [
    "scene.preview()"
   ]
  },
  {
   "cell_type": "code",
   "execution_count": 9,
   "metadata": {},
   "outputs": [],
   "source": [
    "# # compute cell positions\n",
    "# cell_num_x = int(map_size_x/cell_size) + 1 # Number of x cells in the map\n",
    "# cell_num_y = int(map_size_y/cell_size) + 1 # Number of y cells in the map\n",
    "# cell_positions = np.zeros((cell_num_x, cell_num_y, 3))\n",
    "# # fill x\n",
    "# x_fill = np.arange(0,cell_num_x) * cell_size + map_center[0] - map_size_x/2\n",
    "# x_fill = np.tile(x_fill,cell_num_y)\n",
    "# cell_positions[:,:,0] = x_fill.reshape([cell_num_y,cell_num_x]).transpose()\n",
    "# # fill y\n",
    "# y_fill = np.arange(0,cell_num_y) * cell_size + map_center[1] - map_size_y/2\n",
    "# y_fill = np.tile(y_fill,cell_num_x)\n",
    "# cell_positions[:,:,1] = y_fill.reshape([cell_num_x,cell_num_y])\n",
    "# # fill z\n",
    "# cell_positions[:,:,2] = np.tile(map_center[2],(cell_num_x,cell_num_y))\n",
    "# cell_pos = tf.constant(cell_positions, dtype=tf.float32)\n",
    "# # [num_cells_x*num_cells_y, 3]\n",
    "# cell_pos = tf.reshape(cell_pos, [-1, 3])  "
   ]
  },
  {
   "cell_type": "code",
   "execution_count": 10,
   "metadata": {},
   "outputs": [],
   "source": [
    "crbs = scene.coverage_map_sensing(map_center=[0,0,2.95],\n",
    "                                  map_size_x=6,\n",
    "                                  map_size_y=10,\n",
    "                                  cell_size=0.5,\n",
    "                                  look_at=[1.9,2.7,1.0],\n",
    "                                  batch_size=100,\n",
    "                                  num_samples=100000,\n",
    "                                  num_time_steps=1)"
   ]
  },
  {
   "cell_type": "code",
   "execution_count": 12,
   "metadata": {},
   "outputs": [],
   "source": [
    "crb = None\n",
    "for i in range(0,len(crbs)):\n",
    "    c = crbs[i][0]\n",
    "    c = tf.squeeze(c)\n",
    "    c = c.numpy()\n",
    "    if crb is None:\n",
    "        crb = c\n",
    "    else:\n",
    "        crb = np.concatenate((crb,c),axis=None)\n",
    "crb = np.array(crb)"
   ]
  },
  {
   "cell_type": "code",
   "execution_count": 13,
   "metadata": {},
   "outputs": [],
   "source": [
    "crb = np.reshape(crb,[-1,21])"
   ]
  },
  {
   "cell_type": "code",
   "execution_count": 14,
   "metadata": {},
   "outputs": [
    {
     "data": {
      "text/plain": [
       "<matplotlib.colorbar.Colorbar at 0x7f20d80d1400>"
      ]
     },
     "execution_count": 14,
     "metadata": {},
     "output_type": "execute_result"
    },
    {
     "data": {
      "image/png": "[encoded data removed]",
      "text/plain": [
       "<Figure size 640x480 with 2 Axes>"
      ]
     },
     "metadata": {},
     "output_type": "display_data"
    }
   ],
   "source": [
    "crb = np.log10(crb)\n",
    "plt.imshow(crb)\n",
    "plt.colorbar()"
   ]
  },
  {
   "cell_type": "code",
   "execution_count": 8,
   "metadata": {},
   "outputs": [],
   "source": [
    "paths = scene.compute_paths(max_depth=4,diffraction=True,scattering=True,edge_diffraction=True)"
   ]
  },
  {
   "cell_type": "code",
   "execution_count": null,
   "metadata": {},
   "outputs": [],
   "source": [
    "# scene.preview(paths=paths)"
   ]
  },
  {
   "cell_type": "code",
   "execution_count": 9,
   "metadata": {},
   "outputs": [],
   "source": [
    "v,obj=scene.compute_target_velocities(paths, return_obj_names=True)"
   ]
  },
  {
   "cell_type": "code",
   "execution_count": 10,
   "metadata": {},
   "outputs": [],
   "source": [
    "subcarrier_spacing = 15e3\n",
    "num_time_steps = 1\n",
    "paths.apply_doppler(sampling_frequency=subcarrier_spacing, num_time_steps=num_time_steps,target_velocities=v)"
   ]
  },
  {
   "cell_type": "code",
   "execution_count": 11,
   "metadata": {},
   "outputs": [],
   "source": [
    "crb = paths.crb_delay()"
   ]
  },
  {
   "cell_type": "code",
   "execution_count": 12,
   "metadata": {},
   "outputs": [
    {
     "data": {
      "text/plain": [
       "True"
      ]
     },
     "execution_count": 12,
     "metadata": {},
     "output_type": "execute_result"
    }
   ],
   "source": [
    "paths.export_crb(crb,\"test.xyzrgb\")"
   ]
  }
 ],
 "metadata": {
  "kernelspec": {
   "display_name": "Python 3 (ipykernel)",
   "language": "python",
   "name": "python3"
  },
  "language_info": {
   "codemirror_mode": {
    "name": "ipython",
    "version": 3
   },
   "file_extension": ".py",
   "mimetype": "text/x-python",
   "name": "python",
   "nbconvert_exporter": "python",
   "pygments_lexer": "ipython3",
   "version": "3.8.10"
  }
 },
 "nbformat": 4,
 "nbformat_minor": 4
}
