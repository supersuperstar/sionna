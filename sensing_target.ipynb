{
 "cells": [
  {
   "cell_type": "code",
   "execution_count": 1,
   "metadata": {},
   "outputs": [
    {
     "name": "stdout",
     "output_type": "stream",
     "text": [
      "Jupyter environment detected. Enabling Open3D WebVisualizer.\n",
      "[Open3D INFO] WebRTC GUI backend enabled.\n",
      "[Open3D INFO] WebRTCWindowSystem: HTTP handshake server disabled.\n",
      "[Open3D INFO] Resetting default logger to print to terminal.\n"
     ]
    }
   ],
   "source": [
    "import os\n",
    "gpu_num = 0 # 使用 \"\" 来启用 CPU\n",
    "os.environ[\"CUDA_VISIBLE_DEVICES\"] = f\"{gpu_num}\"\n",
    "os.environ['TF_CPP_MIN_LOG_LEVEL'] = '3'\n",
    "\n",
    "import tensorflow as tf\n",
    "gpus = tf.config.list_physical_devices('GPU')\n",
    "if gpus:\n",
    "    try:\n",
    "        tf.config.experimental.set_memory_growth(gpus[0], True)\n",
    "    except RuntimeError as e:\n",
    "        print(e)\n",
    "# Avoid warnings from TensorFlow\n",
    "tf.get_logger().setLevel('ERROR')\n",
    "\n",
    "tf.random.set_seed(1) # Set global random seed for reproducibility\n",
    "import matplotlib.pyplot as plt\n",
    "import numpy as np\n",
    "import pickle\n",
    "import time\n",
    "import mitsuba as mi\n",
    "import open3d as o3d\n",
    "from open3d.web_visualizer import draw\n",
    "\n",
    "# Import Sionna RT components\n",
    "from mysionna.rt import load_scene, Transmitter, Receiver, PlanarArray, Camera\n",
    "from mysionna.rt.scattering_pattern import *\n",
    "from sionna.utils import insert_dims"
   ]
  },
  {
   "cell_type": "code",
   "execution_count": 2,
   "metadata": {},
   "outputs": [],
   "source": [
    "scene = load_scene(\"Indoor/indoor.xml\")"
   ]
  },
  {
   "cell_type": "code",
   "execution_count": 3,
   "metadata": {},
   "outputs": [],
   "source": [
    "#################配置发端天线阵列#################\n",
    "scene.tx_array = PlanarArray(num_rows=2,\n",
    "                             num_cols=1,\n",
    "                             vertical_spacing=0.5,\n",
    "                             horizontal_spacing=0.5,\n",
    "                             pattern=\"dipole\",\n",
    "                             polarization=\"V\")\n",
    "\n",
    "#################配置收端天线阵列#################\n",
    "scene.rx_array = PlanarArray(num_rows=2,\n",
    "                             num_cols=1,\n",
    "                             vertical_spacing=0.5,\n",
    "                             horizontal_spacing=0.5,\n",
    "                             pattern=\"dipole\",\n",
    "                             polarization=\"V\")\n",
    "\n",
    "################创建发射机#########################\n",
    "tx = Transmitter(name=\"tx\",\n",
    "                 position=[0,0,2.95])\n",
    "################ 将发射机加入到场景中##############\n",
    "scene.add(tx)\n",
    "#################创建接收机########################\n",
    "rx = Receiver(name=\"rx\",\n",
    "              position=[0,0,2.95])\n",
    "################ 将接收机加入到场景中##############\n",
    "scene.add(rx)\n",
    "tx.look_at([0,0,0])\n",
    "rx.look_at([0,0,0])"
   ]
  },
  {
   "cell_type": "code",
   "execution_count": 4,
   "metadata": {},
   "outputs": [],
   "source": [
    "scene.frequency = 2.14e9 # in Hz; implicitly updates RadioMaterials\n",
    "scene.synthetic_array = True # If set to False, ray tracing will be done per antenna element (slower for large arrays)"
   ]
  },
  {
   "cell_type": "code",
   "execution_count": 5,
   "metadata": {},
   "outputs": [],
   "source": [
    "scene.target_names = [\"door\"]\n",
    "scene.target_velocities = [(5.,5.,0.)]"
   ]
  },
  {
   "cell_type": "code",
   "execution_count": 6,
   "metadata": {},
   "outputs": [],
   "source": [
    "p1 = LambertianPattern()\n",
    "p2 = DirectivePattern(50)\n",
    "scene.get(\"itu_plywood\").scattering_coefficient = 0.4\n",
    "scene.get(\"itu_plywood\").scattering_pattern = p2\n",
    "scene.get(\"itu_concrete\").scattering_coefficient = 0.7\n",
    "scene.get(\"itu_concrete\").scattering_pattern = p1\n",
    "scene.get(\"itu_floorboard\").scattering_coefficient = 0.3\n",
    "scene.get(\"itu_floorboard\").scattering_pattern = p2\n",
    "scene.get(\"itu_ceiling_board\").scattering_coefficient = 0.7\n",
    "scene.get(\"itu_ceiling_board\").scattering_pattern = p1"
   ]
  },
  {
   "cell_type": "code",
   "execution_count": 7,
   "metadata": {},
   "outputs": [],
   "source": [
    "paths = scene.compute_paths(max_depth=4,diffraction=True,scattering=True,edge_diffraction=True,scat_keep_prob=0.001)"
   ]
  },
  {
   "cell_type": "code",
   "execution_count": 8,
   "metadata": {},
   "outputs": [],
   "source": [
    "# scene.preview(paths=paths)"
   ]
  },
  {
   "cell_type": "code",
   "execution_count": 9,
   "metadata": {},
   "outputs": [],
   "source": [
    "v,obj=scene.compute_target_velocities(paths, return_obj_names=True)"
   ]
  },
  {
   "cell_type": "code",
   "execution_count": 10,
   "metadata": {},
   "outputs": [],
   "source": [
    "subcarrier_spacing = 15e3\n",
    "num_time_steps = 1\n",
    "paths.apply_doppler(sampling_frequency=subcarrier_spacing, num_time_steps=num_time_steps,target_velocities=v)"
   ]
  },
  {
   "cell_type": "code",
   "execution_count": 11,
   "metadata": {},
   "outputs": [],
   "source": [
    "a,tau = paths.cir()\n",
    "frequency = scene.frequency\n",
    "length = a.shape[5]\n",
    "snr=10\n",
    "phase = tf.complex(tf.zeros_like(tau),2*np.pi*frequency*tau)\n",
    "e = tf.exp(phase)\n",
    "e = tf.expand_dims(e, axis=-1)\n",
    "a = a * e\n",
    "if scene.synthetic_array:\n",
    "    tau = tf.expand_dims(tau, axis=3)\n",
    "    tau = tf.expand_dims(tau, axis=2)\n",
    "tau_i = tf.repeat(tau,length,axis=-1)\n",
    "tau_i = tf.reshape(tau_i, [tau.shape[0],tau.shape[1],tau.shape[2],tau.shape[3],tau.shape[4],length,length])\n",
    "tau_j = tf.transpose(tau_i,perm=[0,1,2,3,4,6,5])\n",
    "tau_i_mine_j = tau_i- tau_j\n",
    "tau_i_mul_j = tau_i* tau_j\n",
    "tau_i_mine_j = tf.expand_dims(tau_i_mine_j, axis=-1)\n",
    "tau_i_mul_j = tf.expand_dims(tau_i_mul_j, axis=-1)\n",
    "alpha = tf.expand_dims(a, axis=-2)\n",
    "alpha_1 = tf.transpose(alpha,perm=[0,1,2,3,4,7,5,6])\n",
    "alpha_2 = tf.transpose(alpha,perm=[0,1,2,3,4,7,6,5])\n",
    "alpha_ij = tf.matmul(alpha_1,alpha_2)\n",
    "alpha_ij = tf.transpose(alpha_ij,perm=[0,1,2,3,4,6,7,5])\n",
    "one = tf.ones((length,length))\n",
    "one = insert_dims(one, 5, 0)\n",
    "one = insert_dims(one, 1, -1)\n",
    "F_alpha= 2*snr*tf.math.divide_no_nan(tf.math.abs(alpha_ij),(tau_i_mul_j**2))\n",
    "F_cos = (one+4*(np.pi**2)*(frequency) * tau_i_mul_j)*tf.math.cos(2*np.pi*frequency*tau_i_mine_j)\n",
    "F_sin = 2*np.pi*frequency*tau_i_mine_j*tf.math.sin(2*np.pi*frequency*tau_i_mine_j)\n",
    "F = F_alpha*(F_cos+F_sin)\n",
    "del alpha,alpha_1,alpha_2,alpha_ij,tau_i_mine_j,tau_i_mul_j,tau_i,tau_j,F_alpha,F_cos,F_sin,one,phase,e\n",
    "F = tf.transpose(F,perm=[0,1,2,3,4,7,5,6])\n",
    "F = tf.reshape(F, [-1,length,length]) * 1e-18"
   ]
  },
  {
   "cell_type": "code",
   "execution_count": 12,
   "metadata": {},
   "outputs": [],
   "source": [
    "crb = tf.linalg.diag_part(tf.linalg.pinv(F))\n",
    "crb = tf.abs(crb)"
   ]
  },
  {
   "cell_type": "code",
   "execution_count": 13,
   "metadata": {},
   "outputs": [],
   "source": [
    "objects = paths.objects\n",
    "vertices = paths.vertices\n",
    "\n",
    "num_targets = objects.shape[1]\n",
    "num_sources = objects.shape[2]\n",
    "num_rx = paths.a.shape[1]\n",
    "num_rx_ant = paths.a.shape[2]\n",
    "num_tx = paths.a.shape[3]\n",
    "num_tx_ant = paths.a.shape[4]\n",
    "max_num_paths = paths.a.shape[5]\n",
    "max_depth = objects.shape[0]\n",
    "\n",
    "if objects.shape[1] != num_rx*num_rx_ant:\n",
    "    objects = tf.repeat(objects,int(num_rx*num_rx_ant/objects.shape[1]),axis=1)\n",
    "if objects.shape[2] != num_tx*num_tx_ant:\n",
    "    objects = tf.repeat(objects,int(num_tx*num_tx_ant/objects.shape[2]),axis=2)\n",
    "objects = tf.reshape(objects, [max_depth,num_rx,num_rx_ant,num_tx,num_tx_ant,max_num_paths])\n",
    "if vertices.shape[1] != num_rx*num_rx_ant:\n",
    "    vertices = tf.repeat(vertices,int(num_rx*num_rx_ant/vertices.shape[1]),axis=1)\n",
    "if vertices.shape[2] != num_tx*num_tx_ant:\n",
    "    vertices = tf.repeat(vertices,int(num_tx*num_tx_ant/vertices.shape[2]),axis=2)\n",
    "vertices = tf.reshape(vertices, [max_depth,num_rx,num_rx_ant,num_tx,num_tx_ant,max_num_paths,3])"
   ]
  },
  {
   "cell_type": "code",
   "execution_count": 14,
   "metadata": {},
   "outputs": [],
   "source": [
    "crb = tf.where(crb==0,1,crb)\n",
    "crb = tf.reshape(crb, [-1,num_rx,num_rx_ant,num_tx,num_tx_ant,num_time_steps,max_num_paths])\n",
    "crb = tf.transpose(crb,perm=[0,1,2,3,4,6,5])"
   ]
  },
  {
   "cell_type": "code",
   "execution_count": 15,
   "metadata": {},
   "outputs": [],
   "source": [
    "crb_b1 = tf.reduce_min(crb,axis=-1)"
   ]
  },
  {
   "cell_type": "code",
   "execution_count": 16,
   "metadata": {},
   "outputs": [],
   "source": [
    "mask = paths.mask\n",
    "if mask.shape[1] != num_rx*num_rx_ant:\n",
    "    mask = tf.repeat(mask,int(num_rx*num_rx_ant/mask.shape[1]),axis=1)\n",
    "if mask.shape[2] != num_tx*num_tx_ant:\n",
    "    mask = tf.repeat(mask,int(num_tx*num_tx_ant/mask.shape[2]),axis=2)\n",
    "mask = tf.reshape(mask, [-1,num_rx,num_rx_ant,num_tx,num_tx_ant,max_num_paths])\n",
    "crb_b1 = tf.where(mask,crb_b1,1)\n",
    "crb_b1 = tf.repeat(crb_b1,max_depth,axis=0)\n",
    "\n",
    "indices = tf.where(objects != -1)"
   ]
  },
  {
   "cell_type": "code",
   "execution_count": 24,
   "metadata": {},
   "outputs": [],
   "source": [
    "v = tf.gather_nd(vertices, indices)\n",
    "c = tf.gather_nd(crb_b1, indices)\n",
    "c = tf.where(c==0,1,c)\n",
    "c = tf.where(c==1,0,c)\n",
    "indices = tf.where(c != 0)\n",
    "c = tf.gather_nd(c, indices)\n",
    "v = tf.gather_nd(v, indices)\n",
    "c = np.log10(c)\n",
    "# normalize c\n",
    "c = (c - np.min(c)) / (np.max(c) - np.min(c))\n",
    "v = v.numpy()\n"
   ]
  },
  {
   "cell_type": "code",
   "execution_count": 34,
   "metadata": {},
   "outputs": [],
   "source": [
    "# v1,idx = np.unique(v, return_index = True,axis=0)\n",
    "# c1 = c[idx]"
   ]
  },
  {
   "cell_type": "code",
   "execution_count": 36,
   "metadata": {},
   "outputs": [],
   "source": [
    "c_color = np.expand_dims(c, axis=-1)\n",
    "c_color = np.repeat(c_color,3,axis=-1)\n",
    "color_start = np.array([[75./255, 0, 130./255]])\n",
    "color_start = np.repeat(color_start,c.shape[0],axis=0)\n",
    "color_end = np.array([[1, 1, 0]])\n",
    "color_end = np.repeat(color_end,c.shape[0],axis=0)\n",
    "c_color = color_start + c_color * (color_end - color_start)"
   ]
  },
  {
   "cell_type": "code",
   "execution_count": 38,
   "metadata": {},
   "outputs": [
    {
     "data": {
      "text/plain": [
       "True"
      ]
     },
     "execution_count": 38,
     "metadata": {},
     "output_type": "execute_result"
    }
   ],
   "source": [
    "pcd = o3d.geometry.PointCloud()\n",
    "pcd.points = o3d.utility.Vector3dVector(v)\n",
    "pcd.colors = o3d.utility.Vector3dVector(c_color)\n",
    "# pcd.colors = o3d.utility.Vector3dVector(np.random.rand(v.shape[0],3))\n",
    "o3d.io.write_point_cloud(\"test.xyzrgb\", pcd)"
   ]
  }
 ],
 "metadata": {
  "kernelspec": {
   "display_name": "Python 3 (ipykernel)",
   "language": "python",
   "name": "python3"
  },
  "language_info": {
   "codemirror_mode": {
    "name": "ipython",
    "version": 3
   },
   "file_extension": ".py",
   "mimetype": "text/x-python",
   "name": "python",
   "nbconvert_exporter": "python",
   "pygments_lexer": "ipython3",
   "version": "3.8.10"
  }
 },
 "nbformat": 4,
 "nbformat_minor": 4
}
