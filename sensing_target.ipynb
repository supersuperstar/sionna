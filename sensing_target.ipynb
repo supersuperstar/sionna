{
 "cells": [
  {
   "cell_type": "code",
   "execution_count": 2,
   "metadata": {},
   "outputs": [],
   "source": [
    "import os\n",
    "gpu_num = 0 # 使用 \"\" 来启用 CPU\n",
    "os.environ[\"CUDA_VISIBLE_DEVICES\"] = f\"{gpu_num}\"\n",
    "os.environ['TF_CPP_MIN_LOG_LEVEL'] = '3'\n",
    "\n",
    "import tensorflow as tf\n",
    "gpus = tf.config.list_physical_devices('GPU')\n",
    "if gpus:\n",
    "    try:\n",
    "        tf.config.experimental.set_memory_growth(gpus[0], True)\n",
    "    except RuntimeError as e:\n",
    "        print(e)\n",
    "# Avoid warnings from TensorFlow\n",
    "tf.get_logger().setLevel('ERROR')\n",
    "\n",
    "tf.random.set_seed(1) # Set global random seed for reproducibility\n",
    "import matplotlib.pyplot as plt\n",
    "import numpy as np\n",
    "import pickle\n",
    "import time\n",
    "import mitsuba as mi\n",
    "\n",
    "# Import Sionna RT components\n",
    "from mysionna.rt import load_scene, Transmitter, Receiver, PlanarArray, Camera"
   ]
  },
  {
   "cell_type": "code",
   "execution_count": 3,
   "metadata": {},
   "outputs": [
    {
     "ename": "NameError",
     "evalue": "name 'SolverCoverageMapSensing' is not defined",
     "output_type": "error",
     "traceback": [
      "\u001b[0;31m---------------------------------------------------------------------------\u001b[0m",
      "\u001b[0;31mNameError\u001b[0m                                 Traceback (most recent call last)",
      "Cell \u001b[0;32mIn [3], line 1\u001b[0m\n\u001b[0;32m----> 1\u001b[0m scene \u001b[38;5;241m=\u001b[39m \u001b[43mload_scene\u001b[49m\u001b[43m(\u001b[49m\u001b[38;5;124;43m\"\u001b[39;49m\u001b[38;5;124;43mIndoor/indoor.xml\u001b[39;49m\u001b[38;5;124;43m\"\u001b[39;49m\u001b[43m)\u001b[49m\n",
      "File \u001b[0;32m~/sionna/sionna/mysionna/rt/scene.py:2069\u001b[0m, in \u001b[0;36mload_scene\u001b[0;34m(filename, dtype)\u001b[0m\n\u001b[1;32m   2067\u001b[0m \u001b[38;5;28;01mif\u001b[39;00m filename \u001b[38;5;129;01mis\u001b[39;00m \u001b[38;5;28;01mNone\u001b[39;00m:\n\u001b[1;32m   2068\u001b[0m     filename \u001b[38;5;241m=\u001b[39m \u001b[38;5;124m\"\u001b[39m\u001b[38;5;124m__empty__\u001b[39m\u001b[38;5;124m\"\u001b[39m\n\u001b[0;32m-> 2069\u001b[0m \u001b[38;5;28;01mreturn\u001b[39;00m \u001b[43mScene\u001b[49m\u001b[43m(\u001b[49m\u001b[43mfilename\u001b[49m\u001b[43m,\u001b[49m\u001b[43m \u001b[49m\u001b[43mdtype\u001b[49m\u001b[38;5;241;43m=\u001b[39;49m\u001b[43mdtype\u001b[49m\u001b[43m)\u001b[49m\n",
      "File \u001b[0;32m~/sionna/sionna/mysionna/rt/scene.py:152\u001b[0m, in \u001b[0;36mScene.__init__\u001b[0;34m(self, env_filename, dtype)\u001b[0m\n\u001b[1;32m    149\u001b[0m \u001b[38;5;28mself\u001b[39m\u001b[38;5;241m.\u001b[39m_solver_cm \u001b[38;5;241m=\u001b[39m SolverCoverageMap(\u001b[38;5;28mself\u001b[39m, solver\u001b[38;5;241m=\u001b[39m\u001b[38;5;28mself\u001b[39m\u001b[38;5;241m.\u001b[39m_solver_paths,\n\u001b[1;32m    150\u001b[0m                                     dtype\u001b[38;5;241m=\u001b[39mdtype)\n\u001b[1;32m    151\u001b[0m \u001b[38;5;66;03m# Solver for sensing coverage map\u001b[39;00m\n\u001b[0;32m--> 152\u001b[0m \u001b[38;5;28mself\u001b[39m\u001b[38;5;241m.\u001b[39m_solver_cm_sensing \u001b[38;5;241m=\u001b[39m \u001b[43mSolverCoverageMapSensing\u001b[49m(\u001b[38;5;28mself\u001b[39m, solver\u001b[38;5;241m=\u001b[39m\u001b[38;5;28mself\u001b[39m\u001b[38;5;241m.\u001b[39m_solver_paths,\n\u001b[1;32m    153\u001b[0m                                     dtype\u001b[38;5;241m=\u001b[39mdtype)\n\u001b[1;32m    154\u001b[0m \u001b[38;5;66;03m# Load the cameras\u001b[39;00m\n\u001b[1;32m    155\u001b[0m \u001b[38;5;28mself\u001b[39m\u001b[38;5;241m.\u001b[39m_load_cameras()\n",
      "\u001b[0;31mNameError\u001b[0m: name 'SolverCoverageMapSensing' is not defined"
     ]
    }
   ],
   "source": [
    "scene = load_scene(\"Indoor/indoor.xml\")"
   ]
  },
  {
   "cell_type": "code",
   "execution_count": null,
   "metadata": {},
   "outputs": [],
   "source": [
    "#################配置发端天线阵列#################\n",
    "scene.tx_array = PlanarArray(num_rows=1,\n",
    "                             num_cols=1,\n",
    "                             vertical_spacing=0.5,\n",
    "                             horizontal_spacing=0.5,\n",
    "                             pattern=\"tr38901\",\n",
    "                             polarization=\"V\")\n",
    "\n",
    "#################配置收端天线阵列#################\n",
    "scene.rx_array = PlanarArray(num_rows=1,\n",
    "                             num_cols=1,\n",
    "                             vertical_spacing=0.5,\n",
    "                             horizontal_spacing=0.5,\n",
    "                             pattern=\"dipole\",\n",
    "                             polarization=\"cross\")\n",
    "\n",
    "################创建发射机#########################\n",
    "tx = Transmitter(name=\"tx\",\n",
    "                 position=[0,0,2.95])\n",
    "################ 将发射机加入到场景中##############\n",
    "scene.add(tx)\n",
    "#################创建接收机########################\n",
    "rx = Receiver(name=\"rx\",\n",
    "              position=[0,0,2.95])\n",
    "################ 将接收机加入到场景中##############\n",
    "scene.add(rx)\n",
    "rx1 = Receiver(name=\"rx1\",\n",
    "                position=[0,0,0])\n",
    "scene.add(rx1)\n",
    "tx.look_at(rx1)\n",
    "rx.look_at(rx1)\n",
    "scene.remove('rx1')"
   ]
  },
  {
   "cell_type": "code",
   "execution_count": null,
   "metadata": {},
   "outputs": [],
   "source": [
    "scene.frequency = 2.14e9 # in Hz; implicitly updates RadioMaterials\n",
    "scene.synthetic_array = True # If set to False, ray tracing will be done per antenna element (slower for large arrays)"
   ]
  },
  {
   "cell_type": "code",
   "execution_count": null,
   "metadata": {},
   "outputs": [],
   "source": [
    "scene.target_names = [\"door\"]\n",
    "scene.target_velocities = [(1.,1.,0.)]"
   ]
  },
  {
   "cell_type": "code",
   "execution_count": null,
   "metadata": {},
   "outputs": [],
   "source": [
    "paths = scene.compute_paths(max_depth=4,diffraction=True,scattering=True,edge_diffraction=True)"
   ]
  },
  {
   "cell_type": "code",
   "execution_count": null,
   "metadata": {},
   "outputs": [],
   "source": [
    "v,obj=scene.compute_target_velocities(paths, return_obj_names=True)"
   ]
  },
  {
   "cell_type": "code",
   "execution_count": 8,
   "metadata": {},
   "outputs": [],
   "source": [
    "subcarrier_spacing = 15e3\n",
    "num_time_steps = 14\n",
    "paths.apply_doppler(sampling_frequency=subcarrier_spacing, num_time_steps=num_time_steps,target_velocities=v)"
   ]
  }
 ],
 "metadata": {
  "kernelspec": {
   "display_name": "base",
   "language": "python",
   "name": "python3"
  },
  "language_info": {
   "codemirror_mode": {
    "name": "ipython",
    "version": 3
   },
   "file_extension": ".py",
   "mimetype": "text/x-python",
   "name": "python",
   "nbconvert_exporter": "python",
   "pygments_lexer": "ipython3",
   "version": "3.8.10"
  }
 },
 "nbformat": 4,
 "nbformat_minor": 2
}
