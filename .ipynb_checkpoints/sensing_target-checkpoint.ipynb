{
 "cells": [
  {
   "cell_type": "code",
   "execution_count": 1,
   "metadata": {
    "tags": []
   },
   "outputs": [],
   "source": [
    "import os\n",
    "gpu_num = 0 # 使用 \"\" 来启用 CPU\n",
    "os.environ[\"CUDA_VISIBLE_DEVICES\"] = f\"{gpu_num}\"\n",
    "os.environ['TF_CPP_MIN_LOG_LEVEL'] = '3'\n",
    "\n",
    "import tensorflow as tf\n",
    "gpus = tf.config.list_physical_devices('GPU')\n",
    "if gpus:\n",
    "    try:\n",
    "        tf.config.experimental.set_memory_growth(gpus[0], True)\n",
    "    except RuntimeError as e:\n",
    "        print(e)\n",
    "# Avoid warnings from TensorFlow\n",
    "tf.get_logger().setLevel('ERROR')\n",
    "\n",
    "tf.random.set_seed(1) # Set global random seed for reproducibility\n",
    "import matplotlib.pyplot as plt\n",
    "import numpy as np\n",
    "import sionna\n",
    "\n",
    "# Import Sionna RT components\n",
    "from sionna.channel import subcarrier_frequencies, cir_to_ofdm_channel\n",
    "from mysionna.rt import load_scene, Transmitter, Receiver, PlanarArray\n",
    "from mysionna.rt.scattering_pattern import *\n",
    "from mysionna.rt.scene import load_sensing_scene, Target"
   ]
  },
  {
   "cell_type": "code",
   "execution_count": 21,
   "metadata": {
    "tags": []
   },
   "outputs": [],
   "source": [
    "tgpos = (2.4, -185. ,    0.)\n",
    "BSpos = np.array([[32.8,0,50.3],[-30.3,93,20.8],[-121.4,33.2,8.9],[27.2,-143.9,8.6],[-25.3,-88.4,45.3],[108.6,-121.1,24.9]])\n",
    "tg = Target(\"meshes/car.ply\",\"itu_metal\",tgpos)\n",
    "scene = load_sensing_scene(\"./scenes/Street/street.xml\",tg)\n",
    "# scene = load_scene(\"./scenes/Street/street.xml\")\n",
    "N=32"
   ]
  },
  {
   "cell_type": "code",
   "execution_count": 3,
   "metadata": {
    "tags": []
   },
   "outputs": [],
   "source": [
    "# scene.preview()"
   ]
  },
  {
   "cell_type": "code",
   "execution_count": 22,
   "metadata": {
    "tags": []
   },
   "outputs": [],
   "source": [
    "#################配置发端天线阵列#################\n",
    "scene.tx_array = PlanarArray(num_rows=1,\n",
    "                             num_cols=1,\n",
    "                             vertical_spacing=0.5,\n",
    "                             horizontal_spacing=0.5,\n",
    "                             pattern=\"dipole\",\n",
    "                             polarization=\"V\")\n",
    "\n",
    "#################配置收端天线阵列#################\n",
    "scene.rx_array = PlanarArray(num_rows=N,\n",
    "                             num_cols=1,\n",
    "                             vertical_spacing=0.5,\n",
    "                             horizontal_spacing=0.5,\n",
    "                             pattern=\"dipole\",\n",
    "                             polarization=\"V\")"
   ]
  },
  {
   "cell_type": "code",
   "execution_count": 23,
   "metadata": {
    "tags": []
   },
   "outputs": [],
   "source": [
    "for idx in range(6):\n",
    "    pos = BSpos[idx]\n",
    "    tx = Transmitter(name=f'tx{idx}',position=pos)\n",
    "    rx = Receiver(name=f'rx{idx}',position=pos)\n",
    "    if scene.get(f'tx{idx}') is not None:\n",
    "        scene.remove(f'tx{idx}')\n",
    "    scene.add(tx)\n",
    "    if scene.get(f'rx{idx}') is not None:\n",
    "        scene.remove(f'rx{idx}')\n",
    "    scene.add(rx)\n"
   ]
  },
  {
   "cell_type": "code",
   "execution_count": 24,
   "metadata": {
    "tags": []
   },
   "outputs": [],
   "source": [
    "scene.frequency = 2.14e9 # in Hz; implicitly updates RadioMaterials\n",
    "scene.synthetic_array = True # If set to False, ray tracing will be done per antenna element (slower for large arrays)"
   ]
  },
  {
   "cell_type": "code",
   "execution_count": 25,
   "metadata": {
    "tags": []
   },
   "outputs": [],
   "source": [
    "scene.target_names = [\"car\"]\n",
    "scene.target_velocities = [(0.7, -11.9  , 0.)]"
   ]
  },
  {
   "cell_type": "code",
   "execution_count": 26,
   "metadata": {
    "tags": []
   },
   "outputs": [],
   "source": [
    "p1 = LambertianPattern()\n",
    "p2 = DirectivePattern(20)\n",
    "if scene.get(\"itu_plywood\") is not None:\n",
    "    scene.get(\"itu_plywood\").scattering_coefficient = 0.3\n",
    "    scene.get(\"itu_plywood\").scattering_pattern = p1\n",
    "if scene.get(\"itu_concrete\") is not None:\n",
    "    scene.get(\"itu_concrete\").scattering_coefficient = 0.5\n",
    "    scene.get(\"itu_concrete\").scattering_pattern = p1\n",
    "if scene.get(\"itu_glass\") is not None:\n",
    "    scene.get(\"itu_glass\").scattering_coefficient = 0.25\n",
    "    scene.get(\"itu_glass\").scattering_pattern = p2\n",
    "if scene.get(\"itu_medium_dry_ground\") is not None:\n",
    "    scene.get(\"itu_medium_dry_ground\").scattering_coefficient = 0.8\n",
    "    scene.get(\"itu_medium_dry_ground\").scattering_pattern = p1\n",
    "if scene.get(\"itu_metal\") is not None:\n",
    "    scene.get(\"itu_metal\").scattering_coefficient = 0.1\n",
    "    scene.get(\"itu_metal\").scattering_pattern = p2"
   ]
  },
  {
   "cell_type": "code",
   "execution_count": 27,
   "metadata": {
    "jupyter": {
     "source_hidden": true
    },
    "tags": []
   },
   "outputs": [],
   "source": [
    "# crbs = scene.coverage_map_sensing(only_target=True,\n",
    "#                                   map_center=[0,0,2.95],\n",
    "#                                   map_size_x=10,\n",
    "#                                   map_size_y=6,\n",
    "#                                   cell_size=0.5,\n",
    "#                                   look_at=[-3.37234,2.18367,1.20838],\n",
    "#                                   batch_size=10,\n",
    "#                                   singleBS=True,\n",
    "#                                   num_samples=1000000,\n",
    "#                                   max_depth=3,\n",
    "#                                   diffraction=True,\n",
    "#                                   edge_diffraction=True,\n",
    "#                                   num_time_steps=1)"
   ]
  },
  {
   "cell_type": "code",
   "execution_count": 28,
   "metadata": {
    "jupyter": {
     "source_hidden": true
    },
    "tags": []
   },
   "outputs": [],
   "source": [
    "# crb = None\n",
    "# for i in range(0,len(crbs)):\n",
    "#     c = crbs[i][0]\n",
    "#     c = tf.squeeze(c)\n",
    "#     # c = tf.linalg.diag_part(c)\n",
    "#     c = c.numpy()\n",
    "#     if crb is None:\n",
    "#         crb = c\n",
    "#     else:\n",
    "#         crb = np.concatenate((crb,c),axis=None)\n",
    "# crb = np.array(crb)\n",
    "# crb = np.reshape(crb,[-1,13])\n",
    "# # np.save(\"./Data/indoor/table1/crb.npy\",crb)\n",
    "# crb = np.log10(crb)\n",
    "# crb = np.rot90(crb)\n",
    "# crb = np.flip(crb,axis=0)\n",
    "# crb = np.flip(crb,axis=1)\n",
    "# plt.imshow(crb)\n",
    "# plt.colorbar()\n"
   ]
  },
  {
   "cell_type": "code",
   "execution_count": 30,
   "metadata": {
    "tags": []
   },
   "outputs": [],
   "source": [
    "# scene.preview(paths=paths)\n",
    "BSid = 3"
   ]
  },
  {
   "cell_type": "code",
   "execution_count": 31,
   "metadata": {
    "tags": []
   },
   "outputs": [],
   "source": [
    "paths = scene.compute_paths(max_depth=3,num_samples=1e6,reflection=True,diffraction=True,scattering=True,edge_diffraction=True,scat_keep_prob=0.01,scat_random_phases=False)\n",
    "paths.normalize_delays = False"
   ]
  },
  {
   "cell_type": "code",
   "execution_count": 32,
   "metadata": {
    "tags": []
   },
   "outputs": [
    {
     "data": {
      "text/plain": [
       "Text(0, 0.5, '$|a|$')"
      ]
     },
     "execution_count": 32,
     "metadata": {},
     "output_type": "execute_result"
    },
    {
     "data": {
      "image/png": "[encoded data removed]",
      "text/plain": [
       "<Figure size 640x480 with 1 Axes>"
      ]
     },
     "metadata": {},
     "output_type": "display_data"
    }
   ],
   "source": [
    "a, tau = paths.cir()\n",
    "t = tau[0,BSid,BSid,:]/1e-9 # Scale to ns\n",
    "a_abs = np.abs(a)[0,BSid,0,BSid,0,:,0]\n",
    "t = t[a_abs!=0]\n",
    "a_abs = a_abs[a_abs!=0]\n",
    "a_max = np.max(a_abs)\n",
    "# Add dummy entry at start/end for nicer figure\n",
    "t = np.concatenate([(0.,), t, (np.max(t)*1.1,)])\n",
    "a_abs = np.concatenate([(np.nan,), a_abs, (np.nan,)])\n",
    "\n",
    "# And plot the CIR\n",
    "plt.figure()\n",
    "plt.title(\"Channel impulse response realization\")\n",
    "\n",
    "plt.stem(t, a_abs)\n",
    "plt.xlim([0, np.max(t)])\n",
    "plt.ylim([0, a_max*1.1])\n",
    "plt.xlabel(r\"$\\tau$ [ns]\")\n",
    "plt.ylabel(r\"$|a|$\")"
   ]
  },
  {
   "cell_type": "code",
   "execution_count": 33,
   "metadata": {
    "tags": []
   },
   "outputs": [],
   "source": [
    "v,obj=scene.compute_target_velocities(paths, return_obj_names=True)"
   ]
  },
  {
   "cell_type": "code",
   "execution_count": 34,
   "metadata": {
    "tags": []
   },
   "outputs": [],
   "source": [
    "subcarrier_spacing = 15e3\n",
    "num_time_steps = 14\n",
    "paths.apply_doppler(sampling_frequency=subcarrier_spacing, num_time_steps=num_time_steps,target_velocities=v)"
   ]
  },
  {
   "cell_type": "code",
   "execution_count": 35,
   "metadata": {
    "tags": []
   },
   "outputs": [],
   "source": [
    "a,tau = paths.cir()\n",
    "subcarrier_num = 32\n",
    "subcarrier_spacing = 15e3\n",
    "frequencies = subcarrier_frequencies(subcarrier_num, subcarrier_spacing)\n",
    "h_freq = cir_to_ofdm_channel(frequencies, a, tau, normalize=True)\n",
    "ebno_db = 20"
   ]
  },
  {
   "cell_type": "code",
   "execution_count": 20,
   "metadata": {
    "tags": []
   },
   "outputs": [],
   "source": [
    "h_env = h_freq"
   ]
  },
  {
   "cell_type": "code",
   "execution_count": 36,
   "metadata": {
    "tags": []
   },
   "outputs": [],
   "source": [
    "h_all = h_freq"
   ]
  },
  {
   "cell_type": "code",
   "execution_count": 39,
   "metadata": {
    "tags": []
   },
   "outputs": [],
   "source": [
    "h_target = h_all-h_env"
   ]
  },
  {
   "cell_type": "code",
   "execution_count": 38,
   "metadata": {
    "tags": []
   },
   "outputs": [],
   "source": [
    "H_sortidx = np.argsort(np.abs(a[0,BSid,0,BSid,0,:,0]))\n",
    "tau=paths.tau[0,BSid,BSid,:]\n",
    "tau_true = tf.squeeze(tau)[H_sortidx[-1]] * 1e9"
   ]
  },
  {
   "cell_type": "code",
   "execution_count": 40,
   "metadata": {
    "tags": []
   },
   "outputs": [
    {
     "data": {
      "text/plain": [
       "[<matplotlib.lines.Line2D at 0x7f63904c7400>]"
      ]
     },
     "execution_count": 40,
     "metadata": {},
     "output_type": "execute_result"
    },
    {
     "data": {
      "image/png": "[encoded data removed]",
      "text/plain": [
       "<Figure size 1800x600 with 2 Axes>"
      ]
     },
     "metadata": {},
     "output_type": "display_data"
    }
   ],
   "source": [
    "# 时延估计\n",
    "start = 0\n",
    "end = 2000\n",
    "step = 1\n",
    "y_i = h_target[0,BSid,0,BSid,0,0,:]\n",
    "y_i = tf.squeeze(y_i)\n",
    "y_i = tf.expand_dims(y_i, axis=0)\n",
    "y_i_H = tf.transpose(tf.math.conj(y_i))\n",
    "y_conv = tf.matmul(y_i_H, y_i)\n",
    "eig_vals, eig_vecs = tf.linalg.eigh(y_conv)\n",
    "tau_range = np.arange(start,end, step)\n",
    "G_n = tf.cast(eig_vecs[:,:-2], dtype=tf.complex64)\n",
    "G_n_H = tf.math.conj(tf.transpose(G_n))\n",
    "frequencies_c1 = tf.expand_dims(frequencies, axis=0)\n",
    "frequencies_c1 = tf.repeat(frequencies_c1, len(tau_range), axis=0)\n",
    "frequencies_c1 = tf.cast(frequencies_c1, dtype=tf.complex64)\n",
    "tau_range1 = tf.expand_dims(tau_range, axis=-1)\n",
    "tau_range1 = tf.repeat(tau_range1, subcarrier_num, axis=-1)\n",
    "tau_range1 = tf.cast(tau_range1, dtype=tf.complex64)\n",
    "a_m = tf.math.exp(-1j * 2 * np.pi * frequencies_c1 * (tau_range1/1e9))\n",
    "a_m_H = tf.math.conj(tf.transpose(a_m))\n",
    "a_m_H = tf.expand_dims(a_m_H, axis=1)\n",
    "a_m_H = tf.transpose(a_m_H, perm=[2,0,1])\n",
    "a_m = tf.expand_dims(a_m, axis=1)\n",
    "G_n = tf.expand_dims(G_n, axis=0)\n",
    "G_n_H = tf.expand_dims(G_n_H, axis=0)\n",
    "P = 1 / (a_m @ G_n @ G_n_H @ a_m_H)\n",
    "P = tf.squeeze(P)\n",
    "# 计算谱函数\n",
    "P_tau_real, P_tau_imag = tf.math.real(P), tf.math.imag(P)\n",
    "P_abs = tf.math.sqrt(P_tau_real**2 + P_tau_imag**2)\n",
    "P_norm = 10 * tf.math.log(P_abs / tf.reduce_max(P_abs), 10)\n",
    "P_norm = tf.squeeze(P_norm)\n",
    "max_idx = tf.argmax(P_norm)\n",
    "# 绘制\n",
    "# 调整画布大小\n",
    "plt.figure(figsize=(18, 6))\n",
    "plt.subplot(1, 2, 1)\n",
    "plt.plot(tau_range, tf.squeeze(P_norm))\n",
    "plt.title(f\"tau:{(start + int(max_idx) * step)}\")\n",
    "plt.subplot(1, 2, 2)\n",
    "plt.plot(tau_range, tf.squeeze(P_abs))"
   ]
  },
  {
   "cell_type": "code",
   "execution_count": 40,
   "metadata": {
    "tags": []
   },
   "outputs": [
    {
     "data": {
      "text/plain": [
       "299.84999999999997"
      ]
     },
     "execution_count": 40,
     "metadata": {},
     "output_type": "execute_result"
    }
   ],
   "source": [
    "(start + int(max_idx) * step)*0.15"
   ]
  },
  {
   "cell_type": "code",
   "execution_count": 41,
   "metadata": {
    "tags": []
   },
   "outputs": [
    {
     "data": {
      "text/plain": [
       "<tf.Tensor: shape=(), dtype=float32, numpy=304.4635>"
      ]
     },
     "execution_count": 41,
     "metadata": {},
     "output_type": "execute_result"
    }
   ],
   "source": [
    "tau_true*0.15"
   ]
  },
  {
   "cell_type": "code",
   "execution_count": 42,
   "metadata": {
    "tags": []
   },
   "outputs": [
    {
     "data": {
      "text/plain": [
       "306.3393379897528"
      ]
     },
     "execution_count": 42,
     "metadata": {},
     "output_type": "execute_result"
    }
   ],
   "source": [
    "np.linalg.norm(np.array(tgpos)-np.array(BSpos[BSid]))"
   ]
  },
  {
   "cell_type": "code",
   "execution_count": 25,
   "metadata": {
    "jupyter": {
     "source_hidden": true
    },
    "tags": []
   },
   "outputs": [
    {
     "name": "stderr",
     "output_type": "stream",
     "text": [
      "/tmp/ipykernel_17891/451752205.py:45: UserWarning: Trying to create polar plot on an Axes that does not have a polar projection.\n",
      "  plt.polar(range,tf.squeeze(P_norm))\n",
      "/tmp/ipykernel_17891/451752205.py:48: UserWarning: Trying to create polar plot on an Axes that does not have a polar projection.\n",
      "  plt.polar(range,tf.squeeze(P_abs))\n"
     ]
    },
    {
     "data": {
      "text/plain": [
       "[<matplotlib.lines.Line2D at 0x7ff15c789850>]"
      ]
     },
     "execution_count": 25,
     "metadata": {},
     "output_type": "execute_result"
    },
    {
     "data": {
      "image/png": "[encoded data removed]",
      "text/plain": [
       "<Figure size 1800x600 with 2 Axes>"
      ]
     },
     "metadata": {},
     "output_type": "display_data"
    }
   ],
   "source": [
    "# 角度估计\n",
    "start = -np.pi/2\n",
    "end = np.pi/2\n",
    "step = 0.01\n",
    "# 信道\n",
    "y_i = h_freq[0,0,:,0,0,0,0]\n",
    "y_i = tf.squeeze(y_i)\n",
    "y_i = tf.expand_dims(y_i, axis=0)\n",
    "y_i_H = tf.transpose(tf.math.conj(y_i))\n",
    "y_conv = tf.matmul(y_i_H, y_i)\n",
    "# 特征值分解\n",
    "eig_vals, eig_vecs = tf.linalg.eigh(y_conv)\n",
    "range = np.arange(start,end, step)\n",
    "G_n = tf.cast(eig_vecs[:,:-1], dtype=tf.complex64)\n",
    "G_n_H = tf.math.conj(tf.transpose(G_n))\n",
    "# 矢量\n",
    "lambda_ = 3e8 / scene.frequency\n",
    "z = np.arange(0,N,1)\n",
    "c1 = tf.expand_dims(z, axis=0)\n",
    "c1 = tf.repeat(c1, len(range), axis=0)\n",
    "c1 = tf.cast(c1, dtype=tf.complex64)\n",
    "range1 = tf.expand_dims(range, axis=-1)\n",
    "range1 = tf.repeat(range1, N, axis=-1)\n",
    "range1 = tf.cast(range1, dtype=tf.complex64)\n",
    "k = tf.cast(np.pi, dtype=tf.complex64)\n",
    "a_m = tf.math.exp(1j * k * c1 * tf.math.sin(range1))\n",
    "a_m_H = tf.math.conj(tf.transpose(a_m))\n",
    "a_m_H = tf.expand_dims(a_m_H, axis=1)\n",
    "a_m_H = tf.transpose(a_m_H, perm=[2,0,1])\n",
    "a_m = tf.expand_dims(a_m, axis=1)\n",
    "G_n = tf.expand_dims(G_n, axis=0)\n",
    "G_n_H = tf.expand_dims(G_n_H, axis=0)\n",
    "P = 1 / (a_m @ G_n @ G_n_H @ a_m_H)\n",
    "P = tf.squeeze(P)\n",
    "# 计算谱函数\n",
    "P_tau_real, P_tau_imag = tf.math.real(P), tf.math.imag(P)\n",
    "P_abs = tf.math.sqrt(P_tau_real**2 + P_tau_imag**2)\n",
    "P_norm = 10 * tf.math.log(P_abs / tf.reduce_max(P_abs), 10)\n",
    "P_norm = tf.squeeze(P_norm)\n",
    "max_idx = tf.argmax(P_norm)\n",
    "# 绘制\n",
    "# 调整画布大小\n",
    "plt.figure(figsize=(18, 6))\n",
    "plt.subplot(1, 2, 1)\n",
    "plt.polar(range,tf.squeeze(P_norm))\n",
    "plt.title(f\"tau:{(start + int(max_idx) * step)*180/np.pi}\")\n",
    "plt.subplot(1, 2, 2)\n",
    "plt.polar(range,tf.squeeze(P_abs))"
   ]
  },
  {
   "cell_type": "code",
   "execution_count": null,
   "metadata": {},
   "outputs": [],
   "source": []
  }
 ],
 "metadata": {
  "kernelspec": {
   "display_name": "Python 3 (ipykernel)",
   "language": "python",
   "name": "python3"
  },
  "language_info": {
   "codemirror_mode": {
    "name": "ipython",
    "version": 3
   },
   "file_extension": ".py",
   "mimetype": "text/x-python",
   "name": "python",
   "nbconvert_exporter": "python",
   "pygments_lexer": "ipython3",
   "version": "3.8.10"
  }
 },
 "nbformat": 4,
 "nbformat_minor": 4
}
